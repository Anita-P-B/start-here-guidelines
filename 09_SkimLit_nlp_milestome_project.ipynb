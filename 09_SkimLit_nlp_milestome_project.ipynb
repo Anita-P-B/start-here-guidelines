{
  "cells": [
    {
      "cell_type": "markdown",
      "metadata": {
        "id": "view-in-github",
        "colab_type": "text"
      },
      "source": [
        "<a href=\"https://colab.research.google.com/github/Anita-P-B/start-here-guidelines/blob/master/09_SkimLit_nlp_milestome_project.ipynb\" target=\"_parent\"><img src=\"https://colab.research.google.com/assets/colab-badge.svg\" alt=\"Open In Colab\"/></a>"
      ]
    },
    {
      "cell_type": "markdown",
      "metadata": {
        "id": "0Y79AzJlhCbb"
      },
      "source": [
        "# Milestone Project 2: SkimLit\n",
        "\n",
        "The purpose of this project is to make reading medical scientific paper abstract easier by breaking the abstract into seveal sections:\n",
        "-Objective\n",
        "-Backgrpund\n",
        "-Methods\n",
        "-Results\n",
        "-Conculsions/Summary\n",
        "Each sentence in the abstract will classified for one of the sections abouve.\n",
        "\n",
        "The source of the dataset can be view in the link below:\n",
        "\n",
        "https://arxiv.org/abs/1710.06071\n",
        "\n",
        "The model architecture we will be using availible here:\n",
        "\n",
        "https://arxiv.org/abs/1612.05251"
      ]
    },
    {
      "cell_type": "code",
      "execution_count": null,
      "metadata": {
        "colab": {
          "base_uri": "https://localhost:8080/"
        },
        "id": "bg0xEHY6ly63",
        "outputId": "6485bac3-20b6-4f74-df37-ee418f1a3dd0"
      },
      "outputs": [
        {
          "name": "stdout",
          "output_type": "stream",
          "text": [
            "Thu Mar 24 11:21:02 2022       \n",
            "+-----------------------------------------------------------------------------+\n",
            "| NVIDIA-SMI 460.32.03    Driver Version: 460.32.03    CUDA Version: 11.2     |\n",
            "|-------------------------------+----------------------+----------------------+\n",
            "| GPU  Name        Persistence-M| Bus-Id        Disp.A | Volatile Uncorr. ECC |\n",
            "| Fan  Temp  Perf  Pwr:Usage/Cap|         Memory-Usage | GPU-Util  Compute M. |\n",
            "|                               |                      |               MIG M. |\n",
            "|===============================+======================+======================|\n",
            "|   0  Tesla P100-PCIE...  Off  | 00000000:00:04.0 Off |                    0 |\n",
            "| N/A   37C    P0    32W / 250W |   1897MiB / 16280MiB |      0%      Default |\n",
            "|                               |                      |                  N/A |\n",
            "+-------------------------------+----------------------+----------------------+\n",
            "                                                                               \n",
            "+-----------------------------------------------------------------------------+\n",
            "| Processes:                                                                  |\n",
            "|  GPU   GI   CI        PID   Type   Process name                  GPU Memory |\n",
            "|        ID   ID                                                   Usage      |\n",
            "|=============================================================================|\n",
            "+-----------------------------------------------------------------------------+\n"
          ]
        }
      ],
      "source": [
        "# Check GPU\n",
        "!nvidia-smi"
      ]
    },
    {
      "cell_type": "markdown",
      "metadata": {
        "id": "14rLLn6gnyuy"
      },
      "source": [
        "## Get data"
      ]
    },
    {
      "cell_type": "code",
      "execution_count": null,
      "metadata": {
        "colab": {
          "base_uri": "https://localhost:8080/"
        },
        "id": "qVfP39CTn31J",
        "outputId": "2498d2c2-466f-4249-e5f5-991ff7f3ed8e"
      },
      "outputs": [
        {
          "name": "stdout",
          "output_type": "stream",
          "text": [
            "fatal: destination path 'pubmed-rct' already exists and is not an empty directory.\n",
            "PubMed_200k_RCT\n",
            "PubMed_200k_RCT_numbers_replaced_with_at_sign\n",
            "PubMed_20k_RCT\n",
            "PubMed_20k_RCT_numbers_replaced_with_at_sign\n",
            "README.md\n"
          ]
        }
      ],
      "source": [
        "!git clone https://github.com/Franck-Dernoncourt/pubmed-rct\n",
        "!ls pubmed-rct"
      ]
    },
    {
      "cell_type": "code",
      "execution_count": null,
      "metadata": {
        "colab": {
          "base_uri": "https://localhost:8080/"
        },
        "id": "aJFYx9VJn4H6",
        "outputId": "b1830bbd-a67b-46b2-fd6a-98be0e783915"
      },
      "outputs": [
        {
          "name": "stdout",
          "output_type": "stream",
          "text": [
            "dev.txt  test.txt  train.txt\n"
          ]
        }
      ],
      "source": [
        "# Check what files are in the directory 'PubMed_20K_RCT'\n",
        "!ls pubmed-rct/PubMed_20k_RCT/"
      ]
    },
    {
      "cell_type": "markdown",
      "metadata": {
        "id": "kSGwZqHCn4T5"
      },
      "source": [
        "* dev sometimed means 'validation'- another term for validation set"
      ]
    },
    {
      "cell_type": "code",
      "execution_count": null,
      "metadata": {
        "colab": {
          "base_uri": "https://localhost:8080/"
        },
        "id": "huVMsDqqn4dg",
        "outputId": "a27835a2-075a-4d16-a34a-a51eb64b4345"
      },
      "outputs": [
        {
          "data": {
            "text/plain": [
              "['/content/pubmed-rct/PubMed_20k_RCT_numbers_replaced_with_at_sign/test.txt',\n",
              " '/content/pubmed-rct/PubMed_20k_RCT_numbers_replaced_with_at_sign/dev.txt',\n",
              " '/content/pubmed-rct/PubMed_20k_RCT_numbers_replaced_with_at_sign/train.txt']"
            ]
          },
          "execution_count": 159,
          "metadata": {},
          "output_type": "execute_result"
        }
      ],
      "source": [
        "# Start the experiments using the 20K dataset with numbers replaces by @\n",
        "data_dir='/content/pubmed-rct/PubMed_20k_RCT_numbers_replaced_with_at_sign/'\n",
        "\n",
        "# Check the file names in the target directory\n",
        "import os\n",
        "filenames=[data_dir+filename for filename in os.listdir(data_dir)]\n",
        "filenames"
      ]
    },
    {
      "cell_type": "markdown",
      "metadata": {
        "id": "Ypzex55arxCS"
      },
      "source": [
        "## Preprocess data"
      ]
    },
    {
      "cell_type": "code",
      "execution_count": null,
      "metadata": {
        "colab": {
          "base_uri": "https://localhost:8080/",
          "height": 35
        },
        "id": "zFdDV4SpvkKF",
        "outputId": "0b49d263-3251-443a-ca00-f294df9bf81f"
      },
      "outputs": [
        {
          "data": {
            "application/vnd.google.colaboratory.intrinsic+json": {
              "type": "string"
            },
            "text/plain": [
              "'/content/pubmed-rct/PubMed_20k_RCT_numbers_replaced_with_at_sign/test.txt'"
            ]
          },
          "execution_count": 160,
          "metadata": {},
          "output_type": "execute_result"
        }
      ],
      "source": [
        "filenames[0]"
      ]
    },
    {
      "cell_type": "code",
      "execution_count": null,
      "metadata": {
        "colab": {
          "base_uri": "https://localhost:8080/"
        },
        "id": "h8dSr7xXrxKR",
        "outputId": "ff438022-e1c4-4475-a312-5a29ef424e24"
      },
      "outputs": [
        {
          "data": {
            "text/plain": [
              "['###24845963\\n',\n",
              " 'BACKGROUND\\tThis study analyzed liver function abnormalities in heart failure patients admitted with severe acute decompensated heart failure ( ADHF ) .\\n',\n",
              " 'RESULTS\\tA post hoc analysis was conducted with the use of data from the Evaluation Study of Congestive Heart Failure and Pulmonary Artery Catheterization Effectiveness ( ESCAPE ) .\\n',\n",
              " 'RESULTS\\tLiver function tests ( LFTs ) were measured at @ time points from baseline , at discharge , and up to @ months follow-up .\\n',\n",
              " 'RESULTS\\tSurvival analyses were used to assess the association between admission Model of End-Stage Liver Disease Excluding International Normalized Ratio ( MELD-XI ) scores and patient outcome.There was a high prevalence of abnormal baseline ( admission ) LFTs ( albumin @ % , aspartate transaminase @ % , alanine transaminase @ % , and total bilirubin @ % ) .\\n',\n",
              " \"RESULTS\\tThe percentage of patients with abnormal LFTs decreased significantly from baseline to @-months ' follow-up .\\n\",\n",
              " 'RESULTS\\tWhen mean hemodynamic profiles were compared in patients with abnormal versus normal LFTs , elevated total bilirubin was associated with a significantly lower cardiac index ( @ vs @ ; P < @ ) and higher central venous pressure ( @ vs @ ; P = @ ) .\\n',\n",
              " 'RESULTS\\tMultivariable analyses revealed that patients with elevated MELD-XI scores ( @ ) had a @-fold ( hazard ratio@ @ , @ % confidence interval @-@ @ ) increased risk of death , rehospitalization , or transplantation after adjusting for baseline LFTs , age , sex , race , body mass index , diabetes , and systolic blood pressure .\\n',\n",
              " 'CONCLUSIONS\\tAbnormal LFTs are common in the ADHF population and are a dynamic marker of an impaired hemodynamic state .\\n',\n",
              " 'CONCLUSIONS\\tElevated MELD-XI scores are associated with poor outcomes among patients admitted with ADHF .\\n']"
            ]
          },
          "execution_count": 161,
          "metadata": {},
          "output_type": "execute_result"
        }
      ],
      "source": [
        "with open(filenames[0]) as test_raw:\n",
        "    lines = test_raw.readlines()\n",
        "test_raw.close()\n",
        "lines[:10]"
      ]
    },
    {
      "cell_type": "code",
      "execution_count": null,
      "metadata": {
        "id": "dOqAT9G-rxSy"
      },
      "outputs": [],
      "source": [
        "# Create a function to read the lines of a document\n",
        "def get_lines(filename):\n",
        "  '''\n",
        "  Raeds filename (a txt. file) and returns the lines of the file as a list.\n",
        "\n",
        "  Args:\n",
        "    filename- a string containing the filepath\n",
        "  Returns:\n",
        "    A list of string contains one string per line from target filename. \n",
        "  '''\n",
        "  with open(filename, 'r') as f:\n",
        "    return f.readlines()"
      ]
    },
    {
      "cell_type": "code",
      "execution_count": null,
      "metadata": {
        "colab": {
          "base_uri": "https://localhost:8080/"
        },
        "id": "VsHu6izLrxbB",
        "outputId": "62e81632-1b16-40a3-ee8a-9014c5b94a58"
      },
      "outputs": [
        {
          "data": {
            "text/plain": [
              "['###24293578\\n',\n",
              " 'OBJECTIVE\\tTo investigate the efficacy of @ weeks of daily low-dose oral prednisolone in improving pain , mobility , and systemic low-grade inflammation in the short term and whether the effect would be sustained at @ weeks in older adults with moderate to severe knee osteoarthritis ( OA ) .\\n',\n",
              " 'METHODS\\tA total of @ patients with primary knee OA were randomized @:@ ; @ received @ mg/day of prednisolone and @ received placebo for @ weeks .\\n',\n",
              " 'METHODS\\tOutcome measures included pain reduction and improvement in function scores and systemic inflammation markers .\\n',\n",
              " 'METHODS\\tPain was assessed using the visual analog pain scale ( @-@ mm ) .\\n',\n",
              " 'METHODS\\tSecondary outcome measures included the Western Ontario and McMaster Universities Osteoarthritis Index scores , patient global assessment ( PGA ) of the severity of knee OA , and @-min walk distance ( @MWD ) .\\n',\n",
              " 'METHODS\\tSerum levels of interleukin @ ( IL-@ ) , IL-@ , tumor necrosis factor ( TNF ) - , and high-sensitivity C-reactive protein ( hsCRP ) were measured .\\n',\n",
              " 'RESULTS\\tThere was a clinically relevant reduction in the intervention group compared to the placebo group for knee pain , physical function , PGA , and @MWD at @ weeks .\\n',\n",
              " 'RESULTS\\tThe mean difference between treatment arms ( @ % CI ) was @ ( @-@ @ ) , p < @ ; @ ( @-@ @ ) , p < @ ; @ ( @-@ @ ) , p < @ ; and @ ( @-@ @ ) , p < @ , respectively .\\n',\n",
              " 'RESULTS\\tFurther , there was a clinically relevant reduction in the serum levels of IL-@ , IL-@ , TNF - , and hsCRP at @ weeks in the intervention group when compared to the placebo group .\\n',\n",
              " 'RESULTS\\tThese differences remained significant at @ weeks .\\n',\n",
              " 'RESULTS\\tThe Outcome Measures in Rheumatology Clinical Trials-Osteoarthritis Research Society International responder rate was @ % in the intervention group and @ % in the placebo group ( p < @ ) .\\n',\n",
              " 'CONCLUSIONS\\tLow-dose oral prednisolone had both a short-term and a longer sustained effect resulting in less knee pain , better physical function , and attenuation of systemic inflammation in older patients with knee OA ( ClinicalTrials.gov identifier NCT@ ) .\\n',\n",
              " '\\n',\n",
              " '###24854809\\n',\n",
              " 'BACKGROUND\\tEmotional eating is associated with overeating and the development of obesity .\\n',\n",
              " 'BACKGROUND\\tYet , empirical evidence for individual ( trait ) differences in emotional eating and cognitive mechanisms that contribute to eating during sad mood remain equivocal .\\n',\n",
              " 'OBJECTIVE\\tThe aim of this study was to test if attention bias for food moderates the effect of self-reported emotional eating during sad mood ( vs neutral mood ) on actual food intake .\\n',\n",
              " 'OBJECTIVE\\tIt was expected that emotional eating is predictive of elevated attention for food and higher food intake after an experimentally induced sad mood and that attentional maintenance on food predicts food intake during a sad versus a neutral mood .\\n',\n",
              " 'METHODS\\tParticipants ( N = @ ) were randomly assigned to one of the two experimental mood induction conditions ( sad/neutral ) .\\n']"
            ]
          },
          "execution_count": 163,
          "metadata": {},
          "output_type": "execute_result"
        }
      ],
      "source": [
        "# Read in the trainng lines \n",
        "train_lines=get_lines(data_dir+\"train.txt\")\n",
        "train_lines[:20]"
      ]
    },
    {
      "cell_type": "code",
      "execution_count": null,
      "metadata": {
        "colab": {
          "base_uri": "https://localhost:8080/"
        },
        "id": "3t8mACx9xatz",
        "outputId": "028c4683-d500-4eb5-ae89-c1786bd66683"
      },
      "outputs": [
        {
          "data": {
            "text/plain": [
              "210040"
            ]
          },
          "execution_count": 164,
          "metadata": {},
          "output_type": "execute_result"
        }
      ],
      "source": [
        "len(train_lines)"
      ]
    },
    {
      "cell_type": "markdown",
      "metadata": {
        "id": "U0lX4gKqxa2L"
      },
      "source": [
        "How the data should look like?\n",
        "\n",
        "It can be represented by a list of dictionaires like this:\n",
        "\n",
        "```\n",
        "[{\"line_number': 0,\n",
        "  'target': BACKGORUND',\n",
        "  'text': 'Emotional eating is associated with overeating and the development of obesity'\n",
        "  'total_lines': 11},\n",
        "  ....]\n",
        "```"
      ]
    },
    {
      "cell_type": "code",
      "execution_count": null,
      "metadata": {
        "colab": {
          "base_uri": "https://localhost:8080/",
          "height": 53
        },
        "id": "J29mxn9v5QgV",
        "outputId": "efec4e35-feb7-4619-bb8e-317a3ee7f578"
      },
      "outputs": [
        {
          "data": {
            "application/vnd.google.colaboratory.intrinsic+json": {
              "type": "string"
            },
            "text/plain": [
              "'To investigate the efficacy of @ weeks of daily low-dose oral prednisolone in improving pain , mobility , and systemic low-grade inflammation in the short term and whether the effect would be sustained at @ weeks in older adults with moderate to severe knee osteoarthritis ( OA ) .\\n'"
            ]
          },
          "execution_count": 165,
          "metadata": {},
          "output_type": "execute_result"
        }
      ],
      "source": [
        "train_lines[0].startswith('###')\n",
        "abstract_line_split=train_lines[13].isspace()\n",
        "abstract_line_split\n",
        "n=train_lines[1].split(\"\\t\")\n",
        "n[1]"
      ]
    },
    {
      "cell_type": "code",
      "execution_count": null,
      "metadata": {
        "id": "hiW3AD4Pxa-S"
      },
      "outputs": [],
      "source": [
        "# Create a preprocessing function that can read in the text as the format above\n",
        "def preprocess_text_with_line_numbers(filename):\n",
        "  '''\n",
        "  Returns a list of dictionaries of abstract liens of data.\n",
        "  Reads 'filename', reads it's content and sorts through each line, extracting:\n",
        "  - the target label\n",
        "  - the text sentence\n",
        "  - the line number\n",
        "  - total number of line in the abstract\n",
        "  Args: \n",
        "    `filename' (str)\n",
        "  Returns:\n",
        "     A list of dictionaries sorted as described above.  \n",
        "  '''\n",
        "  input_lines=get_lines(filename)\n",
        "  abstract_lines=\"\" # Creates an empty abstract\n",
        "  abstract_samples=[] # Creates an empty list of abstracts\n",
        "\n",
        "  # Loop through each line in the target file \n",
        "  for line in input_lines:\n",
        "    if line.startswith('###'):\n",
        "      absract_id=line\n",
        "      abstract_lines=\"\" # reset the abstract string\n",
        "    elif line.isspace(): # Check to see if a line is a new line\n",
        "      abstract_line_split=abstract_lines.splitlines() # split abstract into separate lines \n",
        "\n",
        "      # Iterate through each line in a single abstrct and count them at the same time \n",
        "      for abstract_line_number, abstract_line in enumerate(abstract_line_split):\n",
        "        line_data={} # Create an empty dictionary for each line\n",
        "        target_text_split=abstract_line.split(\"\\t\")\n",
        "        line_data[\"target\"]=target_text_split[0]\n",
        "        line_data[\"text\"]=target_text_split[1].lower() # Convert all the sentence to lower case\n",
        "        line_data[\"line_number\"]=abstract_line_number\n",
        "        line_data[\"total_lines\"]=len(abstract_line_split)-1\n",
        "        abstract_samples.append(line_data)\n",
        "    else: # If the above conditions aren't fulfilled, the lien contains a labeled sentence\n",
        "      abstract_lines+=line\n",
        "  return abstract_samples\n",
        "\n",
        "\n",
        "\n"
      ]
    },
    {
      "cell_type": "code",
      "execution_count": null,
      "metadata": {
        "colab": {
          "base_uri": "https://localhost:8080/"
        },
        "id": "gKVhxyd3xbG7",
        "outputId": "422feaa8-a9a0-48e8-d939-b36687f3f3df"
      },
      "outputs": [
        {
          "data": {
            "text/plain": [
              "(180040, 30212, 30135)"
            ]
          },
          "execution_count": 167,
          "metadata": {},
          "output_type": "execute_result"
        }
      ],
      "source": [
        "\n",
        "train_samples=preprocess_text_with_line_numbers(data_dir+\"train.txt\")\n",
        "val_samples=preprocess_text_with_line_numbers(data_dir+\"dev.txt\")\n",
        "test_samples=preprocess_text_with_line_numbers(data_dir+\"test.txt\")\n",
        "\n",
        "len(train_samples), len(val_samples), len(test_samples)\n"
      ]
    },
    {
      "cell_type": "code",
      "execution_count": null,
      "metadata": {
        "colab": {
          "base_uri": "https://localhost:8080/"
        },
        "id": "gvRHsdV3xbPi",
        "outputId": "cb7fe2ad-6f8e-4fe8-f449-24121cc48ef3"
      },
      "outputs": [
        {
          "data": {
            "text/plain": [
              "[{'line_number': 0,\n",
              "  'target': 'OBJECTIVE',\n",
              "  'text': 'to investigate the efficacy of @ weeks of daily low-dose oral prednisolone in improving pain , mobility , and systemic low-grade inflammation in the short term and whether the effect would be sustained at @ weeks in older adults with moderate to severe knee osteoarthritis ( oa ) .',\n",
              "  'total_lines': 11},\n",
              " {'line_number': 1,\n",
              "  'target': 'METHODS',\n",
              "  'text': 'a total of @ patients with primary knee oa were randomized @:@ ; @ received @ mg/day of prednisolone and @ received placebo for @ weeks .',\n",
              "  'total_lines': 11},\n",
              " {'line_number': 2,\n",
              "  'target': 'METHODS',\n",
              "  'text': 'outcome measures included pain reduction and improvement in function scores and systemic inflammation markers .',\n",
              "  'total_lines': 11},\n",
              " {'line_number': 3,\n",
              "  'target': 'METHODS',\n",
              "  'text': 'pain was assessed using the visual analog pain scale ( @-@ mm ) .',\n",
              "  'total_lines': 11},\n",
              " {'line_number': 4,\n",
              "  'target': 'METHODS',\n",
              "  'text': 'secondary outcome measures included the western ontario and mcmaster universities osteoarthritis index scores , patient global assessment ( pga ) of the severity of knee oa , and @-min walk distance ( @mwd ) .',\n",
              "  'total_lines': 11},\n",
              " {'line_number': 5,\n",
              "  'target': 'METHODS',\n",
              "  'text': 'serum levels of interleukin @ ( il-@ ) , il-@ , tumor necrosis factor ( tnf ) - , and high-sensitivity c-reactive protein ( hscrp ) were measured .',\n",
              "  'total_lines': 11},\n",
              " {'line_number': 6,\n",
              "  'target': 'RESULTS',\n",
              "  'text': 'there was a clinically relevant reduction in the intervention group compared to the placebo group for knee pain , physical function , pga , and @mwd at @ weeks .',\n",
              "  'total_lines': 11},\n",
              " {'line_number': 7,\n",
              "  'target': 'RESULTS',\n",
              "  'text': 'the mean difference between treatment arms ( @ % ci ) was @ ( @-@ @ ) , p < @ ; @ ( @-@ @ ) , p < @ ; @ ( @-@ @ ) , p < @ ; and @ ( @-@ @ ) , p < @ , respectively .',\n",
              "  'total_lines': 11},\n",
              " {'line_number': 8,\n",
              "  'target': 'RESULTS',\n",
              "  'text': 'further , there was a clinically relevant reduction in the serum levels of il-@ , il-@ , tnf - , and hscrp at @ weeks in the intervention group when compared to the placebo group .',\n",
              "  'total_lines': 11},\n",
              " {'line_number': 9,\n",
              "  'target': 'RESULTS',\n",
              "  'text': 'these differences remained significant at @ weeks .',\n",
              "  'total_lines': 11},\n",
              " {'line_number': 10,\n",
              "  'target': 'RESULTS',\n",
              "  'text': 'the outcome measures in rheumatology clinical trials-osteoarthritis research society international responder rate was @ % in the intervention group and @ % in the placebo group ( p < @ ) .',\n",
              "  'total_lines': 11},\n",
              " {'line_number': 11,\n",
              "  'target': 'CONCLUSIONS',\n",
              "  'text': 'low-dose oral prednisolone had both a short-term and a longer sustained effect resulting in less knee pain , better physical function , and attenuation of systemic inflammation in older patients with knee oa ( clinicaltrials.gov identifier nct@ ) .',\n",
              "  'total_lines': 11},\n",
              " {'line_number': 0,\n",
              "  'target': 'BACKGROUND',\n",
              "  'text': 'emotional eating is associated with overeating and the development of obesity .',\n",
              "  'total_lines': 10},\n",
              " {'line_number': 1,\n",
              "  'target': 'BACKGROUND',\n",
              "  'text': 'yet , empirical evidence for individual ( trait ) differences in emotional eating and cognitive mechanisms that contribute to eating during sad mood remain equivocal .',\n",
              "  'total_lines': 10}]"
            ]
          },
          "execution_count": 168,
          "metadata": {},
          "output_type": "execute_result"
        }
      ],
      "source": [
        "train_samples[:14]"
      ]
    },
    {
      "cell_type": "code",
      "execution_count": null,
      "metadata": {
        "colab": {
          "base_uri": "https://localhost:8080/",
          "height": 206
        },
        "id": "C0UcTVU3xbtS",
        "outputId": "96b32ddc-3364-45fb-a7e4-7f804d476f23"
      },
      "outputs": [
        {
          "data": {
            "text/html": [
              "\n",
              "  <div id=\"df-04e55e99-400e-4771-bda8-0c118bd21481\">\n",
              "    <div class=\"colab-df-container\">\n",
              "      <div>\n",
              "<style scoped>\n",
              "    .dataframe tbody tr th:only-of-type {\n",
              "        vertical-align: middle;\n",
              "    }\n",
              "\n",
              "    .dataframe tbody tr th {\n",
              "        vertical-align: top;\n",
              "    }\n",
              "\n",
              "    .dataframe thead th {\n",
              "        text-align: right;\n",
              "    }\n",
              "</style>\n",
              "<table border=\"1\" class=\"dataframe\">\n",
              "  <thead>\n",
              "    <tr style=\"text-align: right;\">\n",
              "      <th></th>\n",
              "      <th>target</th>\n",
              "      <th>text</th>\n",
              "      <th>line_number</th>\n",
              "      <th>total_lines</th>\n",
              "    </tr>\n",
              "  </thead>\n",
              "  <tbody>\n",
              "    <tr>\n",
              "      <th>0</th>\n",
              "      <td>OBJECTIVE</td>\n",
              "      <td>to investigate the efficacy of @ weeks of dail...</td>\n",
              "      <td>0</td>\n",
              "      <td>11</td>\n",
              "    </tr>\n",
              "    <tr>\n",
              "      <th>1</th>\n",
              "      <td>METHODS</td>\n",
              "      <td>a total of @ patients with primary knee oa wer...</td>\n",
              "      <td>1</td>\n",
              "      <td>11</td>\n",
              "    </tr>\n",
              "    <tr>\n",
              "      <th>2</th>\n",
              "      <td>METHODS</td>\n",
              "      <td>outcome measures included pain reduction and i...</td>\n",
              "      <td>2</td>\n",
              "      <td>11</td>\n",
              "    </tr>\n",
              "    <tr>\n",
              "      <th>3</th>\n",
              "      <td>METHODS</td>\n",
              "      <td>pain was assessed using the visual analog pain...</td>\n",
              "      <td>3</td>\n",
              "      <td>11</td>\n",
              "    </tr>\n",
              "    <tr>\n",
              "      <th>4</th>\n",
              "      <td>METHODS</td>\n",
              "      <td>secondary outcome measures included the wester...</td>\n",
              "      <td>4</td>\n",
              "      <td>11</td>\n",
              "    </tr>\n",
              "  </tbody>\n",
              "</table>\n",
              "</div>\n",
              "      <button class=\"colab-df-convert\" onclick=\"convertToInteractive('df-04e55e99-400e-4771-bda8-0c118bd21481')\"\n",
              "              title=\"Convert this dataframe to an interactive table.\"\n",
              "              style=\"display:none;\">\n",
              "        \n",
              "  <svg xmlns=\"http://www.w3.org/2000/svg\" height=\"24px\"viewBox=\"0 0 24 24\"\n",
              "       width=\"24px\">\n",
              "    <path d=\"M0 0h24v24H0V0z\" fill=\"none\"/>\n",
              "    <path d=\"M18.56 5.44l.94 2.06.94-2.06 2.06-.94-2.06-.94-.94-2.06-.94 2.06-2.06.94zm-11 1L8.5 8.5l.94-2.06 2.06-.94-2.06-.94L8.5 2.5l-.94 2.06-2.06.94zm10 10l.94 2.06.94-2.06 2.06-.94-2.06-.94-.94-2.06-.94 2.06-2.06.94z\"/><path d=\"M17.41 7.96l-1.37-1.37c-.4-.4-.92-.59-1.43-.59-.52 0-1.04.2-1.43.59L10.3 9.45l-7.72 7.72c-.78.78-.78 2.05 0 2.83L4 21.41c.39.39.9.59 1.41.59.51 0 1.02-.2 1.41-.59l7.78-7.78 2.81-2.81c.8-.78.8-2.07 0-2.86zM5.41 20L4 18.59l7.72-7.72 1.47 1.35L5.41 20z\"/>\n",
              "  </svg>\n",
              "      </button>\n",
              "      \n",
              "  <style>\n",
              "    .colab-df-container {\n",
              "      display:flex;\n",
              "      flex-wrap:wrap;\n",
              "      gap: 12px;\n",
              "    }\n",
              "\n",
              "    .colab-df-convert {\n",
              "      background-color: #E8F0FE;\n",
              "      border: none;\n",
              "      border-radius: 50%;\n",
              "      cursor: pointer;\n",
              "      display: none;\n",
              "      fill: #1967D2;\n",
              "      height: 32px;\n",
              "      padding: 0 0 0 0;\n",
              "      width: 32px;\n",
              "    }\n",
              "\n",
              "    .colab-df-convert:hover {\n",
              "      background-color: #E2EBFA;\n",
              "      box-shadow: 0px 1px 2px rgba(60, 64, 67, 0.3), 0px 1px 3px 1px rgba(60, 64, 67, 0.15);\n",
              "      fill: #174EA6;\n",
              "    }\n",
              "\n",
              "    [theme=dark] .colab-df-convert {\n",
              "      background-color: #3B4455;\n",
              "      fill: #D2E3FC;\n",
              "    }\n",
              "\n",
              "    [theme=dark] .colab-df-convert:hover {\n",
              "      background-color: #434B5C;\n",
              "      box-shadow: 0px 1px 3px 1px rgba(0, 0, 0, 0.15);\n",
              "      filter: drop-shadow(0px 1px 2px rgba(0, 0, 0, 0.3));\n",
              "      fill: #FFFFFF;\n",
              "    }\n",
              "  </style>\n",
              "\n",
              "      <script>\n",
              "        const buttonEl =\n",
              "          document.querySelector('#df-04e55e99-400e-4771-bda8-0c118bd21481 button.colab-df-convert');\n",
              "        buttonEl.style.display =\n",
              "          google.colab.kernel.accessAllowed ? 'block' : 'none';\n",
              "\n",
              "        async function convertToInteractive(key) {\n",
              "          const element = document.querySelector('#df-04e55e99-400e-4771-bda8-0c118bd21481');\n",
              "          const dataTable =\n",
              "            await google.colab.kernel.invokeFunction('convertToInteractive',\n",
              "                                                     [key], {});\n",
              "          if (!dataTable) return;\n",
              "\n",
              "          const docLinkHtml = 'Like what you see? Visit the ' +\n",
              "            '<a target=\"_blank\" href=https://colab.research.google.com/notebooks/data_table.ipynb>data table notebook</a>'\n",
              "            + ' to learn more about interactive tables.';\n",
              "          element.innerHTML = '';\n",
              "          dataTable['output_type'] = 'display_data';\n",
              "          await google.colab.output.renderOutput(dataTable, element);\n",
              "          const docLink = document.createElement('div');\n",
              "          docLink.innerHTML = docLinkHtml;\n",
              "          element.appendChild(docLink);\n",
              "        }\n",
              "      </script>\n",
              "    </div>\n",
              "  </div>\n",
              "  "
            ],
            "text/plain": [
              "      target                                               text  line_number  \\\n",
              "0  OBJECTIVE  to investigate the efficacy of @ weeks of dail...            0   \n",
              "1    METHODS  a total of @ patients with primary knee oa wer...            1   \n",
              "2    METHODS  outcome measures included pain reduction and i...            2   \n",
              "3    METHODS  pain was assessed using the visual analog pain...            3   \n",
              "4    METHODS  secondary outcome measures included the wester...            4   \n",
              "\n",
              "   total_lines  \n",
              "0           11  \n",
              "1           11  \n",
              "2           11  \n",
              "3           11  \n",
              "4           11  "
            ]
          },
          "execution_count": 169,
          "metadata": {},
          "output_type": "execute_result"
        }
      ],
      "source": [
        "# Turn the preprocess data into a DataFrame\n",
        "import pandas as pd \n",
        "train_df=pd.DataFrame(train_samples)\n",
        "val_df=pd.DataFrame(val_samples)\n",
        "test_df=pd.DataFrame(test_samples)\n",
        "train_df.head()"
      ]
    },
    {
      "cell_type": "code",
      "execution_count": null,
      "metadata": {
        "colab": {
          "base_uri": "https://localhost:8080/"
        },
        "id": "Q2f6h0XSaj4Z",
        "outputId": "10593b72-6900-44d0-b23a-567b6592f1ea"
      },
      "outputs": [
        {
          "data": {
            "text/plain": [
              "target\n",
              "METHODS        59353\n",
              "RESULTS        57953\n",
              "CONCLUSIONS    27168\n",
              "BACKGROUND     21727\n",
              "OBJECTIVE      13839\n",
              "dtype: int64"
            ]
          },
          "execution_count": 170,
          "metadata": {},
          "output_type": "execute_result"
        }
      ],
      "source": [
        "# distribution of labels in the training data\n",
        "train_df.value_counts(\"target\")"
      ]
    },
    {
      "cell_type": "code",
      "execution_count": null,
      "metadata": {
        "colab": {
          "base_uri": "https://localhost:8080/",
          "height": 282
        },
        "id": "0L8E-F6AbgyS",
        "outputId": "68d0cd1f-825c-416e-fb20-581a469f34f6"
      },
      "outputs": [
        {
          "data": {
            "text/plain": [
              "<matplotlib.axes._subplots.AxesSubplot at 0x7ff1c8078710>"
            ]
          },
          "execution_count": 171,
          "metadata": {},
          "output_type": "execute_result"
        },
        {
          "data": {
            "image/png": "[encoded data removed]",
            "text/plain": [
              "<Figure size 432x288 with 1 Axes>"
            ]
          },
          "metadata": {},
          "output_type": "display_data"
        }
      ],
      "source": [
        "# Chack the length of different abstracts\n",
        "train_df.total_lines.plot.hist(bins=25)"
      ]
    },
    {
      "cell_type": "markdown",
      "metadata": {
        "id": "9Et6cgqTb-Tc"
      },
      "source": [
        "### Get lists of sentences\n"
      ]
    },
    {
      "cell_type": "code",
      "execution_count": null,
      "metadata": {
        "colab": {
          "base_uri": "https://localhost:8080/"
        },
        "id": "YB9oW79mb-br",
        "outputId": "f55c08e1-1667-4148-c0b4-1fce1f7406d5"
      },
      "outputs": [
        {
          "data": {
            "text/plain": [
              "(180040, 30212, 30135)"
            ]
          },
          "execution_count": 172,
          "metadata": {},
          "output_type": "execute_result"
        }
      ],
      "source": [
        "# Convert abstract text lines into lists\n",
        "train_sentences=train_df.text.tolist()\n",
        "val_sentences=val_df.text.tolist()\n",
        "test_sentences=test_df.text.tolist()\n",
        "len(train_sentences), len(val_sentences), len(test_sentences)"
      ]
    },
    {
      "cell_type": "code",
      "execution_count": null,
      "metadata": {
        "colab": {
          "base_uri": "https://localhost:8080/"
        },
        "id": "qjncIccxb-jr",
        "outputId": "12697cec-e1bd-4e78-fe9a-82df9e161422"
      },
      "outputs": [
        {
          "data": {
            "text/plain": [
              "['to investigate the efficacy of @ weeks of daily low-dose oral prednisolone in improving pain , mobility , and systemic low-grade inflammation in the short term and whether the effect would be sustained at @ weeks in older adults with moderate to severe knee osteoarthritis ( oa ) .',\n",
              " 'a total of @ patients with primary knee oa were randomized @:@ ; @ received @ mg/day of prednisolone and @ received placebo for @ weeks .',\n",
              " 'outcome measures included pain reduction and improvement in function scores and systemic inflammation markers .',\n",
              " 'pain was assessed using the visual analog pain scale ( @-@ mm ) .',\n",
              " 'secondary outcome measures included the western ontario and mcmaster universities osteoarthritis index scores , patient global assessment ( pga ) of the severity of knee oa , and @-min walk distance ( @mwd ) .']"
            ]
          },
          "execution_count": 173,
          "metadata": {},
          "output_type": "execute_result"
        }
      ],
      "source": [
        "train_sentences[:5]"
      ]
    },
    {
      "cell_type": "markdown",
      "metadata": {
        "id": "hYgJqhbkb-sK"
      },
      "source": [
        "## Convert labels into numeric form"
      ]
    },
    {
      "cell_type": "code",
      "execution_count": null,
      "metadata": {
        "colab": {
          "base_uri": "https://localhost:8080/"
        },
        "id": "7M262RLMb-0C",
        "outputId": "12305329-7145-422f-8148-d4075ba08c17"
      },
      "outputs": [
        {
          "data": {
            "text/plain": [
              "array([[1., 0., 0., 0., 0.],\n",
              "       [0., 0., 0., 0., 1.],\n",
              "       [0., 0., 0., 0., 1.],\n",
              "       ...,\n",
              "       [0., 0., 0., 0., 1.],\n",
              "       [0., 0., 0., 0., 1.],\n",
              "       [0., 1., 0., 0., 0.]])"
            ]
          },
          "execution_count": 174,
          "metadata": {},
          "output_type": "execute_result"
        }
      ],
      "source": [
        "# One hot encode labels\n",
        "from sklearn.preprocessing import OneHotEncoder\n",
        "one_hot_encoder=OneHotEncoder(sparse=False) # we want a non spars matrix\n",
        "train_labels_one_hot=one_hot_encoder.fit_transform(train_df.target.to_numpy().reshape(-1,1))\n",
        "val_labels_one_hot=one_hot_encoder.transform(val_df.target.to_numpy().reshape(-1,1))\n",
        "test_labels_one_hot=one_hot_encoder.transform(test_df.target.to_numpy().reshape(-1,1))\n",
        "\n",
        "test_labels_one_hot"
      ]
    },
    {
      "cell_type": "markdown",
      "metadata": {
        "id": "RiHiCWPZjqit"
      },
      "source": [
        "### Label encode labels "
      ]
    },
    {
      "cell_type": "code",
      "execution_count": null,
      "metadata": {
        "id": "ctNPt_2Bb-7a"
      },
      "outputs": [],
      "source": [
        "# Extract labels and encode them into integers\n",
        "from sklearn.preprocessing import LabelEncoder\n",
        "label_encoder=LabelEncoder()\n",
        "train_labels_encoded=label_encoder.fit_transform(train_df.target.to_numpy())\n",
        "val_labels_encoded=label_encoder.transform(val_df.target.to_numpy())\n",
        "test_labels_encoded=label_encoder.transform(test_df.target.to_numpy())\n"
      ]
    },
    {
      "cell_type": "code",
      "execution_count": null,
      "metadata": {
        "colab": {
          "base_uri": "https://localhost:8080/"
        },
        "id": "_Rd19l3Kb_C6",
        "outputId": "5b0bf6a9-85ca-4524-8969-c1def0c75ea1"
      },
      "outputs": [
        {
          "data": {
            "text/plain": [
              "array(['BACKGROUND', 'CONCLUSIONS', 'METHODS', 'OBJECTIVE', 'RESULTS'],\n",
              "      dtype=object)"
            ]
          },
          "execution_count": 176,
          "metadata": {},
          "output_type": "execute_result"
        }
      ],
      "source": [
        "# Get class names and number of classes from LabelENcoder\n",
        "num_classes=len(label_encoder.classes_)\n",
        "class_names=label_encoder.classes_\n",
        "class_names\n"
      ]
    },
    {
      "cell_type": "markdown",
      "metadata": {
        "id": "qiinzXAhrrcQ"
      },
      "source": [
        "# Starting a series of modeling experiments"
      ]
    },
    {
      "cell_type": "markdown",
      "metadata": {
        "id": "Rfz8K_p0ldYL"
      },
      "source": [
        "## Baseline model- Naive-Bayes"
      ]
    },
    {
      "cell_type": "code",
      "execution_count": null,
      "metadata": {
        "colab": {
          "base_uri": "https://localhost:8080/"
        },
        "id": "0QzLulHyoedp",
        "outputId": "873e755e-d7f1-4875-a408-3acb962da385"
      },
      "outputs": [
        {
          "data": {
            "text/plain": [
              "Pipeline(steps=[('tf-idf', TfidfVectorizer()), ('clf', MultinomialNB())])"
            ]
          },
          "execution_count": 177,
          "metadata": {},
          "output_type": "execute_result"
        }
      ],
      "source": [
        "from sklearn.naive_bayes import MultinomialNB\n",
        "from sklearn.feature_extraction.text import TfidfVectorizer\n",
        "from sklearn.pipeline import Pipeline\n",
        "\n",
        "# Create a pipeline\n",
        "model_0=Pipeline([(\"tf-idf\", TfidfVectorizer()), # convert sentences into numbers\n",
        "                 (\"clf\",MultinomialNB())])\n",
        "\n",
        "\n",
        "# Fit the model\n",
        "\n",
        "model_0.fit(train_sentences,train_labels_encoded)"
      ]
    },
    {
      "cell_type": "code",
      "execution_count": null,
      "metadata": {
        "colab": {
          "base_uri": "https://localhost:8080/"
        },
        "id": "ELv-kZPJoek2",
        "outputId": "d3ded294-9f24-47b6-e242-212bfc7742d2"
      },
      "outputs": [
        {
          "data": {
            "text/plain": [
              "0.7218323844829869"
            ]
          },
          "execution_count": 178,
          "metadata": {},
          "output_type": "execute_result"
        }
      ],
      "source": [
        "# Evaluate baseline model 0\n",
        "model_0.score(val_sentences,val_labels_encoded) "
      ]
    },
    {
      "cell_type": "code",
      "execution_count": null,
      "metadata": {
        "id": "ymLC4Plroet9"
      },
      "outputs": [],
      "source": [
        "# Make predictions using the baseline model\n",
        "model_0_preds=model_0.predict(val_sentences)"
      ]
    },
    {
      "cell_type": "code",
      "execution_count": null,
      "metadata": {
        "colab": {
          "base_uri": "https://localhost:8080/"
        },
        "id": "n5XxXDA_oe29",
        "outputId": "4857663e-b73e-46ef-d0af-b887d42910ab"
      },
      "outputs": [
        {
          "data": {
            "text/plain": [
              "(30212,)"
            ]
          },
          "execution_count": 180,
          "metadata": {},
          "output_type": "execute_result"
        }
      ],
      "source": [
        "model_0_preds.shape"
      ]
    },
    {
      "cell_type": "markdown",
      "metadata": {
        "id": "qENs__6KofBf"
      },
      "source": [
        "### Download helper_functions script"
      ]
    },
    {
      "cell_type": "code",
      "execution_count": null,
      "metadata": {
        "colab": {
          "base_uri": "https://localhost:8080/"
        },
        "id": "ltAQqA-BofK5",
        "outputId": "4b9bfd17-ec33-4f33-96d7-fd1b9fe9d23f"
      },
      "outputs": [
        {
          "name": "stdout",
          "output_type": "stream",
          "text": [
            "--2022-03-24 11:21:18--  https://raw.githubusercontent.com/mrdbourke/tensorflow-deep-learning/main/extras/helper_functions.py\n",
            "Resolving raw.githubusercontent.com (raw.githubusercontent.com)... 185.199.108.133, 185.199.109.133, 185.199.110.133, ...\n",
            "Connecting to raw.githubusercontent.com (raw.githubusercontent.com)|185.199.108.133|:443... connected.\n",
            "HTTP request sent, awaiting response... 200 OK\n",
            "Length: 10246 (10K) [text/plain]\n",
            "Saving to: ‘helper_functions.py.1’\n",
            "\n",
            "helper_functions.py 100%[===================>]  10.01K  --.-KB/s    in 0s      \n",
            "\n",
            "2022-03-24 11:21:18 (67.9 MB/s) - ‘helper_functions.py.1’ saved [10246/10246]\n",
            "\n"
          ]
        }
      ],
      "source": [
        "!wget https://raw.githubusercontent.com/mrdbourke/tensorflow-deep-learning/main/extras/helper_functions.py"
      ]
    },
    {
      "cell_type": "code",
      "execution_count": null,
      "metadata": {
        "colab": {
          "base_uri": "https://localhost:8080/"
        },
        "id": "X4DNn7TTvF7e",
        "outputId": "9235c110-6d0c-460d-a4ae-d0afcf7baed8"
      },
      "outputs": [
        {
          "data": {
            "text/plain": [
              "{'accuracy': 72.1832384482987,\n",
              " 'f1': 0.6989250353450294,\n",
              " 'precision': 0.7186466952323352,\n",
              " 'recall': 0.7218323844829869}"
            ]
          },
          "execution_count": 182,
          "metadata": {},
          "output_type": "execute_result"
        }
      ],
      "source": [
        "from helper_functions import calculate_results\n",
        "baseline_results=calculate_results(val_labels_encoded, model_0_preds)\n",
        "baseline_results"
      ]
    },
    {
      "cell_type": "markdown",
      "metadata": {
        "id": "96yxQ2Zhval2"
      },
      "source": [
        "# Prepraring the text for deep learning models"
      ]
    },
    {
      "cell_type": "code",
      "execution_count": null,
      "metadata": {
        "id": "P4c9g-vZySP3"
      },
      "outputs": [],
      "source": [
        "import numpy as np\n",
        "import tensorflow as tf\n",
        "from tensorflow.keras import layers"
      ]
    },
    {
      "cell_type": "code",
      "execution_count": null,
      "metadata": {
        "colab": {
          "base_uri": "https://localhost:8080/"
        },
        "id": "PP7PuMW2ySZv",
        "outputId": "8004baaf-9257-4814-a39c-f728a5aeb9f5"
      },
      "outputs": [
        {
          "data": {
            "text/plain": [
              "(26.338269273494777, 23.0)"
            ]
          },
          "execution_count": 184,
          "metadata": {},
          "output_type": "execute_result"
        }
      ],
      "source": [
        "# What is the average sentence length?\n",
        "sent_length=[len(sentence.split()) for sentence in train_sentences]\n",
        "av_sent_length=np.mean(sent_length)\n",
        "med_sent_length=np.median(sent_length)\n",
        "av_sent_length,med_sent_length"
      ]
    },
    {
      "cell_type": "code",
      "execution_count": null,
      "metadata": {
        "colab": {
          "base_uri": "https://localhost:8080/",
          "height": 404
        },
        "id": "6PRfQUovySif",
        "outputId": "d6f2c1df-f05f-478b-a144-632f6575e8c6"
      },
      "outputs": [
        {
          "data": {
            "text/plain": [
              "(array([4.2075e+04, 8.3771e+04, 3.6877e+04, 1.0945e+04, 3.9310e+03,\n",
              "        1.4450e+03, 5.6000e+02, 2.2600e+02, 1.0100e+02, 4.5000e+01,\n",
              "        2.0000e+01, 1.2000e+01, 9.0000e+00, 1.0000e+01, 6.0000e+00,\n",
              "        2.0000e+00, 3.0000e+00, 0.0000e+00, 1.0000e+00, 1.0000e+00]),\n",
              " array([  1.  ,  15.75,  30.5 ,  45.25,  60.  ,  74.75,  89.5 , 104.25,\n",
              "        119.  , 133.75, 148.5 , 163.25, 178.  , 192.75, 207.5 , 222.25,\n",
              "        237.  , 251.75, 266.5 , 281.25, 296.  ]),\n",
              " <a list of 20 Patch objects>)"
            ]
          },
          "execution_count": 185,
          "metadata": {},
          "output_type": "execute_result"
        },
        {
          "data": {
            "image/png": "[encoded data removed]",
            "text/plain": [
              "<Figure size 432x288 with 1 Axes>"
            ]
          },
          "metadata": {},
          "output_type": "display_data"
        }
      ],
      "source": [
        "# Sentence length distribution\n",
        "import matplotlib.pyplot as plt\n",
        "plt.hist(sent_length, bins=20)"
      ]
    },
    {
      "cell_type": "code",
      "execution_count": null,
      "metadata": {
        "colab": {
          "base_uri": "https://localhost:8080/"
        },
        "id": "aLF3GW-lySsf",
        "outputId": "de85dc15-bd1e-4a1e-a066-ff543b86335b"
      },
      "outputs": [
        {
          "data": {
            "text/plain": [
              "55"
            ]
          },
          "execution_count": 186,
          "metadata": {},
          "output_type": "execute_result"
        }
      ],
      "source": [
        "# What sentence length covers 95% of examples?\n",
        "output_sec_length=int(np.percentile(a=sent_length,q=95))\n",
        "output_sec_length"
      ]
    },
    {
      "cell_type": "code",
      "execution_count": null,
      "metadata": {
        "colab": {
          "base_uri": "https://localhost:8080/"
        },
        "id": "EfsRph_DyS0G",
        "outputId": "5cf11b29-f9d0-4df5-f374-f65780bd2153"
      },
      "outputs": [
        {
          "data": {
            "text/plain": [
              "296"
            ]
          },
          "execution_count": 187,
          "metadata": {},
          "output_type": "execute_result"
        }
      ],
      "source": [
        "# Max sentenc elength in training data\n",
        "np.max(sent_length)"
      ]
    },
    {
      "cell_type": "markdown",
      "metadata": {
        "id": "rxZFSJIt58nL"
      },
      "source": [
        "### Create text vectorizer layer"
      ]
    },
    {
      "cell_type": "code",
      "execution_count": null,
      "metadata": {
        "id": "CcEfJ_4ZyS9X"
      },
      "outputs": [],
      "source": [
        "from pandas.core.internals.managers import T\n",
        "from tensorflow.keras.layers.experimental.preprocessing import TextVectorization\n",
        "\n",
        "max_tokens=68000\n",
        "text_vectorizer=TextVectorization(max_tokens=max_tokens, # Number of words in vocabulary\n",
        "                                  output_sequence_length=output_sec_length # desired output length of vecotrized sequences\n",
        ")\n",
        "\n"
      ]
    },
    {
      "cell_type": "code",
      "execution_count": null,
      "metadata": {
        "id": "6rBRWhBmyTFn"
      },
      "outputs": [],
      "source": [
        "# Fit text_vactorizer on training data\n",
        "text_vectorizer.adapt(train_sentences)"
      ]
    },
    {
      "cell_type": "code",
      "execution_count": null,
      "metadata": {
        "colab": {
          "base_uri": "https://localhost:8080/"
        },
        "id": "3unqAcC78SVj",
        "outputId": "34e41feb-a6ed-4055-f4c5-faa0f230156c"
      },
      "outputs": [
        {
          "name": "stdout",
          "output_type": "stream",
          "text": [
            "Text:\n",
            " before , at completion of training , and six-weeks later , patients underwent constant-load treadmill testing .\n",
            "sentence length:\n",
            " 111\n",
            "Vectorized text: \n",
            "[[  129    15  1028     4   155     3 28501   869    12   352 27033  3185\n",
            "    574     0     0     0     0     0     0     0     0     0     0     0\n",
            "      0     0     0     0     0     0     0     0     0     0     0     0\n",
            "      0     0     0     0     0     0     0     0     0     0     0     0\n",
            "      0     0     0     0     0     0     0]]\n"
          ]
        }
      ],
      "source": [
        "# test text vectorizer on random sentences \n",
        "import random\n",
        "target_sentence=random.choice(test_sentences)\n",
        "print(f\"Text:\\n {target_sentence}\")\n",
        "print(f\"sentence length:\\n {len(target_sentence)}\")\n",
        "print(f\"Vectorized text: \\n{text_vectorizer([target_sentence])}\")"
      ]
    },
    {
      "cell_type": "code",
      "execution_count": null,
      "metadata": {
        "colab": {
          "base_uri": "https://localhost:8080/"
        },
        "id": "8DjxdTD38Sdp",
        "outputId": "f04f28d8-a76e-4115-dd8c-3a856fd5bb11"
      },
      "outputs": [
        {
          "data": {
            "text/plain": [
              "TensorShape([1, 55])"
            ]
          },
          "execution_count": 191,
          "metadata": {},
          "output_type": "execute_result"
        }
      ],
      "source": [
        "text_vectorizer([target_sentence]).shape"
      ]
    },
    {
      "cell_type": "code",
      "execution_count": null,
      "metadata": {
        "colab": {
          "base_uri": "https://localhost:8080/"
        },
        "id": "fLBMp1X28Slp",
        "outputId": "c9829bb0-a9fb-4a0d-9cf5-eb5dec63451e"
      },
      "outputs": [
        {
          "name": "stdout",
          "output_type": "stream",
          "text": [
            "Number of words in vocabulary: 64841\n",
            "5 most common word in the vocabulary: ['', '[UNK]', 'the', 'and', 'of']\n",
            "5 least common words in the vocabulary: ['aainduced', 'aaigroup', 'aachener', 'aachen', 'aaacp']\n"
          ]
        }
      ],
      "source": [
        "rct_20k_text_vocab=text_vectorizer.get_vocabulary()\n",
        "print(f\"Number of words in vocabulary: {len(rct_20k_text_vocab)}\")\n",
        "print(f\"5 most common word in the vocabulary: {rct_20k_text_vocab[:5]}\")\n",
        "print(f\"5 least common words in the vocabulary: {rct_20k_text_vocab[-5:]}\")"
      ]
    },
    {
      "cell_type": "code",
      "execution_count": null,
      "metadata": {
        "colab": {
          "base_uri": "https://localhost:8080/"
        },
        "id": "3hL5pTMn8SwZ",
        "outputId": "d6d7cda2-a198-4ced-8561-d826b2b5f91d"
      },
      "outputs": [
        {
          "data": {
            "text/plain": [
              "{'batch_input_shape': (None,),\n",
              " 'dtype': 'string',\n",
              " 'idf_weights': None,\n",
              " 'max_tokens': 68000,\n",
              " 'name': 'text_vectorization_1',\n",
              " 'ngrams': None,\n",
              " 'output_mode': 'int',\n",
              " 'output_sequence_length': 55,\n",
              " 'pad_to_max_tokens': False,\n",
              " 'ragged': False,\n",
              " 'sparse': False,\n",
              " 'split': 'whitespace',\n",
              " 'standardize': 'lower_and_strip_punctuation',\n",
              " 'trainable': True,\n",
              " 'vocabulary': None}"
            ]
          },
          "execution_count": 193,
          "metadata": {},
          "output_type": "execute_result"
        }
      ],
      "source": [
        "# Get the config of the text vectorizer\n",
        "text_vectorizer.get_config()"
      ]
    },
    {
      "cell_type": "markdown",
      "metadata": {
        "id": "1FLMG9LZ8S6h"
      },
      "source": [
        "### create custom text embedding"
      ]
    },
    {
      "cell_type": "code",
      "execution_count": null,
      "metadata": {
        "id": "zvpO7ErC8TEo"
      },
      "outputs": [],
      "source": [
        "# Create token embedding layer\n",
        "\n",
        "token_embed=layers.Embedding(input_dim=len(rct_20k_text_vocab),\n",
        "                             output_dim=128,\n",
        "                             mask_zero=True, # Use masking to handle variables with varying lengths\n",
        "                             name=\"token_embeddings\")"
      ]
    },
    {
      "cell_type": "code",
      "execution_count": null,
      "metadata": {
        "colab": {
          "base_uri": "https://localhost:8080/"
        },
        "id": "-QMQmYlr8TNx",
        "outputId": "fc312a5c-17d6-4ede-d756-acf0a75eb8b5"
      },
      "outputs": [
        {
          "name": "stdout",
          "output_type": "stream",
          "text": [
            "sample sentence:\n",
            " before , at completion of training , and six-weeks later , patients underwent constant-load treadmill testing .\n",
            "sentence after vactorization:\n",
            " [  129    15  1028     4   155     3 28501   869    12   352 27033  3185\n",
            "   574     0     0     0     0     0     0     0     0     0     0     0\n",
            "     0     0     0     0     0     0     0     0     0     0     0     0\n",
            "     0     0     0     0     0     0     0     0     0     0     0     0\n",
            "     0     0     0     0     0     0     0]\n",
            "sentence after embedding:\n",
            " [[-0.02034399 -0.02338203 -0.00095612 ...  0.04337334 -0.04693153\n",
            "  -0.0313414 ]\n",
            " [-0.01506098  0.04208383  0.03253109 ... -0.04720182  0.02790398\n",
            "   0.02383694]\n",
            " [-0.00807758 -0.03611281  0.04534253 ...  0.03595454  0.04885625\n",
            "   0.00610904]\n",
            " ...\n",
            " [ 0.04677084 -0.04268114  0.01947179 ...  0.02493681  0.04581641\n",
            "  -0.01138889]\n",
            " [ 0.04677084 -0.04268114  0.01947179 ...  0.02493681  0.04581641\n",
            "  -0.01138889]\n",
            " [ 0.04677084 -0.04268114  0.01947179 ...  0.02493681  0.04581641\n",
            "  -0.01138889]]\n"
          ]
        }
      ],
      "source": [
        "# Test the embedding \n",
        "print(f\"sample sentence:\\n {target_sentence}\")\n",
        "print(f\"sentence after vactorization:\\n {text_vectorizer(target_sentence)}\")\n",
        "print(f\"sentence after embedding:\\n {token_embed(text_vectorizer(target_sentence))}\")"
      ]
    },
    {
      "cell_type": "markdown",
      "metadata": {
        "id": "uObbaUwX8TWQ"
      },
      "source": [
        "## Creating datasets (making sure the data loads as fast as possible)\n",
        "\n",
        "This will be achieved by using tf.data API\n"
      ]
    },
    {
      "cell_type": "code",
      "execution_count": null,
      "metadata": {
        "colab": {
          "base_uri": "https://localhost:8080/"
        },
        "id": "N5w32r7TGMKk",
        "outputId": "48f277d9-70e9-4f55-9ce8-bb73e369a09a"
      },
      "outputs": [
        {
          "data": {
            "text/plain": [
              "<TensorSliceDataset element_spec=(TensorSpec(shape=(), dtype=tf.string, name=None), TensorSpec(shape=(5,), dtype=tf.float64, name=None))>"
            ]
          },
          "execution_count": 196,
          "metadata": {},
          "output_type": "execute_result"
        }
      ],
      "source": [
        "# Turn the data into TensorFlow Datasets\n",
        "train_dataset=tf.data.Dataset.from_tensor_slices((train_sentences,train_labels_one_hot))\n",
        "valid_dataset=tf.data.Dataset.from_tensor_slices((val_sentences,val_labels_one_hot))\n",
        "test_dataset=tf.data.Dataset.from_tensor_slices((test_sentences,test_labels_one_hot))\n",
        "train_dataset"
      ]
    },
    {
      "cell_type": "code",
      "execution_count": null,
      "metadata": {
        "id": "4BL848WhGMRz"
      },
      "outputs": [],
      "source": [
        "# Convert TensorFlow slices Datasets into prefetched datasets\n",
        "train_dataset=train_dataset.batch(32).prefetch(tf.data.AUTOTUNE) \n",
        "valid_dataset=valid_dataset.batch(32).prefetch(tf.data.AUTOTUNE)\n",
        "test_dataset=test_dataset.batch(32).prefetch(tf.data.AUTOTUNE)"
      ]
    },
    {
      "cell_type": "code",
      "execution_count": null,
      "metadata": {
        "colab": {
          "base_uri": "https://localhost:8080/"
        },
        "id": "zCgIEmqkGMZU",
        "outputId": "bdaa34cb-5098-4cbf-bf78-b0b9b655e96c"
      },
      "outputs": [
        {
          "data": {
            "text/plain": [
              "<PrefetchDataset element_spec=(TensorSpec(shape=(None,), dtype=tf.string, name=None), TensorSpec(shape=(None, 5), dtype=tf.float64, name=None))>"
            ]
          },
          "execution_count": 198,
          "metadata": {},
          "output_type": "execute_result"
        }
      ],
      "source": [
        "train_dataset"
      ]
    },
    {
      "cell_type": "markdown",
      "metadata": {
        "id": "Wu5iMwSKGMgy"
      },
      "source": [
        "## Modle 1: Conv1D with token embeddings"
      ]
    },
    {
      "cell_type": "code",
      "execution_count": null,
      "metadata": {
        "colab": {
          "base_uri": "https://localhost:8080/"
        },
        "id": "hngYZOI0GMoi",
        "outputId": "3a9a39b3-bef8-4114-fc66-659ce3173af6"
      },
      "outputs": [
        {
          "name": "stdout",
          "output_type": "stream",
          "text": [
            "Model: \"model_3\"\n",
            "_________________________________________________________________\n",
            " Layer (type)                Output Shape              Param #   \n",
            "=================================================================\n",
            " input_8 (InputLayer)        [(None, 1)]               0         \n",
            "                                                                 \n",
            " text_vectorization_1 (TextV  (None, 55)               0         \n",
            " ectorization)                                                   \n",
            "                                                                 \n",
            " token_embeddings (Embedding  (None, 55, 128)          8299648   \n",
            " )                                                               \n",
            "                                                                 \n",
            " conv1d_2 (Conv1D)           (None, 55, 64)            41024     \n",
            "                                                                 \n",
            " global_average_pooling1d_1   (None, 64)               0         \n",
            " (GlobalAveragePooling1D)                                        \n",
            "                                                                 \n",
            " dense_17 (Dense)            (None, 5)                 325       \n",
            "                                                                 \n",
            "=================================================================\n",
            "Total params: 8,340,997\n",
            "Trainable params: 8,340,997\n",
            "Non-trainable params: 0\n",
            "_________________________________________________________________\n"
          ]
        }
      ],
      "source": [
        "# create 1D Conv model to precess sequences\n",
        "inputs=layers.Input(shape=(1,),dtype=\"string\")\n",
        "text_vectors=text_vectorizer(inputs)\n",
        "token_embeddings=token_embed(text_vectors)\n",
        "\n",
        "x=layers.Conv1D(filters=64,kernel_size=5,padding=\"same\",activation=\"relu\")(token_embeddings)\n",
        "x=layers.GlobalAveragePooling1D()(x)\n",
        "\n",
        "outputs=layers.Dense(num_classes,activation=\"softmax\")(x)\n",
        "\n",
        "model_1=tf.keras.Model(inputs, outputs)\n",
        "\n",
        "model_1.summary()\n",
        "\n",
        "# Compile the model\n",
        "model_1.compile(loss=tf.keras.losses.CategoricalCrossentropy(),\n",
        "                 optimizer=tf.keras.optimizers.Adam(),\n",
        "                 metrics=[\"accuracy\"])"
      ]
    },
    {
      "cell_type": "code",
      "execution_count": null,
      "metadata": {
        "colab": {
          "base_uri": "https://localhost:8080/"
        },
        "id": "Oi5sWbmbmWn9",
        "outputId": "cd1a4f6b-cc42-48c6-c6be-36bf21306e9d"
      },
      "outputs": [
        {
          "name": "stdout",
          "output_type": "stream",
          "text": [
            "Epoch 1/3\n",
            "562/562 [==============================] - 5s 7ms/step - loss: 0.9224 - accuracy: 0.6367 - val_loss: 0.6844 - val_accuracy: 0.7424\n",
            "Epoch 2/3\n",
            "562/562 [==============================] - 4s 6ms/step - loss: 0.6537 - accuracy: 0.7597 - val_loss: 0.6255 - val_accuracy: 0.7743\n",
            "Epoch 3/3\n",
            "562/562 [==============================] - 4s 6ms/step - loss: 0.6134 - accuracy: 0.7777 - val_loss: 0.5941 - val_accuracy: 0.7849\n"
          ]
        }
      ],
      "source": [
        "# Fit the model\n",
        "history_1=model_1.fit(train_dataset,\n",
        "            epochs=3,\n",
        "            validation_data=(valid_dataset),\n",
        "            steps_per_epoch=int(0.1*len(train_dataset)),\n",
        "            validation_steps=int(0.1*len(valid_dataset)))"
      ]
    },
    {
      "cell_type": "code",
      "execution_count": null,
      "metadata": {
        "colab": {
          "base_uri": "https://localhost:8080/"
        },
        "id": "Ao2cdEuGmWwZ",
        "outputId": "98ad00b4-d2e2-4441-b5aa-7ae06ddb7d8f"
      },
      "outputs": [
        {
          "name": "stdout",
          "output_type": "stream",
          "text": [
            "945/945 [==============================] - 3s 3ms/step - loss: 0.5946 - accuracy: 0.7882\n"
          ]
        },
        {
          "data": {
            "text/plain": [
              "[0.5946372747421265, 0.7881636619567871]"
            ]
          },
          "execution_count": 201,
          "metadata": {},
          "output_type": "execute_result"
        }
      ],
      "source": [
        "# Evaluate on full validation dataset\n",
        "model_1.evaluate(valid_dataset)"
      ]
    },
    {
      "cell_type": "code",
      "execution_count": null,
      "metadata": {
        "colab": {
          "base_uri": "https://localhost:8080/"
        },
        "id": "_GexZljtmW6R",
        "outputId": "4ab545a0-50e1-4ea1-b03c-b2783a25beda"
      },
      "outputs": [
        {
          "data": {
            "text/plain": [
              "array([[0.44308648, 0.16566141, 0.07789443, 0.28565988, 0.02769786],\n",
              "       [0.4347761 , 0.29772416, 0.01151454, 0.24701849, 0.00896673]],\n",
              "      dtype=float32)"
            ]
          },
          "execution_count": 202,
          "metadata": {},
          "output_type": "execute_result"
        }
      ],
      "source": [
        "# Make precistions\n",
        "model_1_pred_probs=model_1.predict(valid_dataset)\n",
        "model_1_pred_probs[:2]"
      ]
    },
    {
      "cell_type": "code",
      "execution_count": null,
      "metadata": {
        "id": "bHtF-iTFmXDa"
      },
      "outputs": [],
      "source": [
        "# Convert pred probs into class names\n",
        "model_1_preds=tf.argmax(model_1_pred_probs,axis=1)"
      ]
    },
    {
      "cell_type": "code",
      "execution_count": null,
      "metadata": {
        "colab": {
          "base_uri": "https://localhost:8080/"
        },
        "id": "-rQuV6DTmXNZ",
        "outputId": "fcad6026-0353-4f2f-d3f8-f02209747504"
      },
      "outputs": [
        {
          "data": {
            "text/plain": [
              "{'accuracy': 78.81636435853304,\n",
              " 'f1': 0.785744366989453,\n",
              " 'precision': 0.7853349022389168,\n",
              " 'recall': 0.7881636435853303}"
            ]
          },
          "execution_count": 279,
          "metadata": {},
          "output_type": "execute_result"
        }
      ],
      "source": [
        "# Calculate model 1 results\n",
        "results_1=calculate_results(val_labels_encoded,model_1_preds)\n",
        "results_1"
      ]
    },
    {
      "cell_type": "markdown",
      "metadata": {
        "id": "VA1rKfIxmXWB"
      },
      "source": [
        "## Model 2: Feature extraction with pretrained token embeddings\n",
        "\n",
        "Link to the pretrained model that will be utilized:\n",
        "\n",
        "https://tfhub.dev/google/universal-sentence-encoder/4"
      ]
    },
    {
      "cell_type": "code",
      "execution_count": null,
      "metadata": {
        "id": "BANb8mhSmXfd"
      },
      "outputs": [],
      "source": [
        "# Download tensorflow hub model USE \n",
        "import tensorflow_hub as hub \n",
        "tf_hub_embedding_layer=hub.KerasLayer(\"https://tfhub.dev/google/universal-sentence-encoder/4\",\n",
        "                                      trainable=False,\n",
        "                                    \n",
        "                                      name=\"universal_sentence_encoder\")"
      ]
    },
    {
      "cell_type": "code",
      "execution_count": null,
      "metadata": {
        "colab": {
          "base_uri": "https://localhost:8080/"
        },
        "id": "UjOg4CInGMxL",
        "outputId": "43ac5384-22f4-455f-9245-030eed34ea77"
      },
      "outputs": [
        {
          "data": {
            "text/plain": [
              "(<tf.Tensor: shape=(30,), dtype=float32, numpy=\n",
              " array([-0.05564841,  0.06016573,  0.00609033,  0.01266354, -0.04375385,\n",
              "        -0.00211319,  0.05231209, -0.05568447,  0.02722036, -0.04395305,\n",
              "         0.08709031,  0.03476335, -0.00704569, -0.02487821, -0.02119919,\n",
              "         0.06275437, -0.08819257, -0.00320785, -0.04916652, -0.05051882,\n",
              "        -0.05915193, -0.01531579,  0.00550297, -0.07153467,  0.0633248 ,\n",
              "         0.01813931, -0.02139189,  0.00379695,  0.05909523, -0.05295375],\n",
              "       dtype=float32)>, TensorShape([1, 512]))"
            ]
          },
          "execution_count": 206,
          "metadata": {},
          "output_type": "execute_result"
        }
      ],
      "source": [
        "# Test out the embedding layer on a random sentence \n",
        "random_training_sentence=random.choice(train_sentences)\n",
        "use_embedded_sentence=tf_hub_embedding_layer([random_training_sentence])\n",
        "use_embedded_sentence[0][:30], use_embedded_sentence.shape"
      ]
    },
    {
      "cell_type": "markdown",
      "metadata": {
        "id": "3F47p57W9mRj"
      },
      "source": [
        "### Building and fitiing model 2"
      ]
    },
    {
      "cell_type": "code",
      "execution_count": null,
      "metadata": {
        "colab": {
          "base_uri": "https://localhost:8080/"
        },
        "id": "fw-5LM1tGNWL",
        "outputId": "fe765433-42d5-454b-e5b1-562c21e3b96b"
      },
      "outputs": [
        {
          "name": "stdout",
          "output_type": "stream",
          "text": [
            "Model: \"model_2_USE_feature_extractor\"\n",
            "_________________________________________________________________\n",
            " Layer (type)                Output Shape              Param #   \n",
            "=================================================================\n",
            " input_9 (InputLayer)        [(None,)]                 0         \n",
            "                                                                 \n",
            " universal_sentence_encoder   (None, 512)              256797824 \n",
            " (KerasLayer)                                                    \n",
            "                                                                 \n",
            " dense_18 (Dense)            (None, 128)               65664     \n",
            "                                                                 \n",
            " dense_19 (Dense)            (None, 5)                 645       \n",
            "                                                                 \n",
            "=================================================================\n",
            "Total params: 256,864,133\n",
            "Trainable params: 66,309\n",
            "Non-trainable params: 256,797,824\n",
            "_________________________________________________________________\n"
          ]
        }
      ],
      "source": [
        "# Build model 2- feature extraction model\n",
        "inputs=layers.Input(shape=[],dtype=tf.string)\n",
        "\n",
        "\n",
        "pretrained_embedding=tf_hub_embedding_layer(inputs)\n",
        "x=layers.Dense(128,activation=\"relu\")(pretrained_embedding)\n",
        "\n",
        "outputs=layers.Dense(len(class_names), activation=\"softmax\")(x)\n",
        "\n",
        "model_2=tf.keras.Model(inputs,outputs, name=\"model_2_USE_feature_extractor\")\n",
        "\n",
        "model_2.compile(loss=tf.keras.losses.CategoricalCrossentropy(),\n",
        "                optimizer=tf.keras.optimizers.Adam(),\n",
        "                metrics=[\"accuracy\"])\n",
        "model_2.summary()"
      ]
    },
    {
      "cell_type": "code",
      "execution_count": null,
      "metadata": {
        "colab": {
          "base_uri": "https://localhost:8080/"
        },
        "id": "C180e1QE8Gob",
        "outputId": "b31af4f8-0463-4d00-b78b-6a418d4dd861"
      },
      "outputs": [
        {
          "name": "stdout",
          "output_type": "stream",
          "text": [
            "Epoch 1/3\n",
            "562/562 [==============================] - 11s 15ms/step - loss: 0.9176 - accuracy: 0.6475 - val_loss: 0.7957 - val_accuracy: 0.6885\n",
            "Epoch 2/3\n",
            "562/562 [==============================] - 7s 13ms/step - loss: 0.7681 - accuracy: 0.7023 - val_loss: 0.7544 - val_accuracy: 0.7058\n",
            "Epoch 3/3\n",
            "562/562 [==============================] - 9s 16ms/step - loss: 0.7517 - accuracy: 0.7124 - val_loss: 0.7375 - val_accuracy: 0.7134\n"
          ]
        }
      ],
      "source": [
        "# Fit model 2 to the data\n",
        "history_2=model_2.fit(train_dataset,\n",
        "                      epochs=3,\n",
        "                      steps_per_epoch=int(0.1*len(train_dataset)),\n",
        "                      validation_data=(valid_dataset),\n",
        "                      validation_steps=int(0.1*len(valid_dataset)))"
      ]
    },
    {
      "cell_type": "code",
      "execution_count": null,
      "metadata": {
        "colab": {
          "base_uri": "https://localhost:8080/"
        },
        "id": "R8-A0y2J_wES",
        "outputId": "2de9d943-9a1b-4686-8e3e-7012dbcf0920"
      },
      "outputs": [
        {
          "name": "stdout",
          "output_type": "stream",
          "text": [
            "945/945 [==============================] - 11s 11ms/step - loss: 0.7404 - accuracy: 0.7140\n"
          ]
        },
        {
          "data": {
            "text/plain": [
              "[0.7404080033302307, 0.713954746723175]"
            ]
          },
          "execution_count": 209,
          "metadata": {},
          "output_type": "execute_result"
        }
      ],
      "source": [
        "# Evaluate the model\n",
        "model_2.evaluate(valid_dataset)"
      ]
    },
    {
      "cell_type": "code",
      "execution_count": null,
      "metadata": {
        "colab": {
          "base_uri": "https://localhost:8080/"
        },
        "id": "7zOqVEym_wME",
        "outputId": "ef18f159-2a0a-4e05-b8e8-eced95c0d41f"
      },
      "outputs": [
        {
          "data": {
            "text/plain": [
              "array([[0.4359086 , 0.3561735 , 0.00223592, 0.19877996, 0.00690202],\n",
              "       [0.36552683, 0.47599718, 0.00366293, 0.15213102, 0.00268207]],\n",
              "      dtype=float32)"
            ]
          },
          "execution_count": 210,
          "metadata": {},
          "output_type": "execute_result"
        }
      ],
      "source": [
        "# make predictions using model 2\n",
        "model_2_pred_probs=model_2.predict(valid_dataset)\n",
        "model_2_pred_probs[:2]"
      ]
    },
    {
      "cell_type": "code",
      "execution_count": null,
      "metadata": {
        "colab": {
          "base_uri": "https://localhost:8080/"
        },
        "id": "_JpPPol5_wVn",
        "outputId": "d988aa4b-deeb-4819-d1f3-13e2356c9e90"
      },
      "outputs": [
        {
          "data": {
            "text/plain": [
              "(<tf.Tensor: shape=(3,), dtype=int64, numpy=array([0, 1, 3])>,\n",
              " array([0, 0, 3]))"
            ]
          },
          "execution_count": 211,
          "metadata": {},
          "output_type": "execute_result"
        }
      ],
      "source": [
        "# Conver the predictions into encoded labels\n",
        "model_2_preds=tf.argmax(model_2_pred_probs, axis=1)\n",
        "model_2_preds[:3], val_labels_encoded[:3]"
      ]
    },
    {
      "cell_type": "code",
      "execution_count": null,
      "metadata": {
        "colab": {
          "base_uri": "https://localhost:8080/"
        },
        "id": "-AaAd_rV_wdD",
        "outputId": "9ecd18fb-8494-49a7-eedf-81a57736e8a6"
      },
      "outputs": [
        {
          "data": {
            "text/plain": [
              "{'accuracy': 71.39547199788163,\n",
              " 'f1': 0.7110356087736287,\n",
              " 'precision': 0.713929969494264,\n",
              " 'recall': 0.7139547199788163}"
            ]
          },
          "execution_count": 278,
          "metadata": {},
          "output_type": "execute_result"
        }
      ],
      "source": [
        "# compare the results\n",
        "results_2=calculate_results(val_labels_encoded, model_2_preds)\n",
        "results_2"
      ]
    },
    {
      "cell_type": "code",
      "execution_count": null,
      "metadata": {
        "id": "R598H0h0Bydb"
      },
      "outputs": [],
      "source": [
        "def compare_results(model, val_data=valid_dataset,val_labels=val_labels_encoded):\n",
        "  '''\n",
        "  Shows the results of a given model.\n",
        "  '''\n",
        "  print(model.evaluate(val_data))\n",
        "  model_pred_probs=model.predict(val_data)\n",
        "  model_preds=tf.argmax(model_pred_probs, axis=1)\n",
        "  model_results=calculate_results(val_labels,model_preds)\n",
        "  print(model_results)\n",
        "  return model_results\n"
      ]
    },
    {
      "cell_type": "code",
      "execution_count": null,
      "metadata": {
        "colab": {
          "base_uri": "https://localhost:8080/"
        },
        "id": "VerFR8vVDLNE",
        "outputId": "7cea3d45-cc10-4df7-baa4-a53b62db23fc"
      },
      "outputs": [
        {
          "name": "stdout",
          "output_type": "stream",
          "text": [
            "945/945 [==============================] - 12s 13ms/step - loss: 0.7404 - accuracy: 0.7140\n",
            "[0.7404080033302307, 0.713954746723175]\n",
            "{'accuracy': 71.39547199788163, 'precision': 0.713929969494264, 'recall': 0.7139547199788163, 'f1': 0.7110356087736287}\n"
          ]
        }
      ],
      "source": [
        "compare_results(model_2)"
      ]
    },
    {
      "cell_type": "markdown",
      "metadata": {
        "id": "Xrj0HqyBDO-M"
      },
      "source": [
        "## Model 3: Conv1D with character embeddings"
      ]
    },
    {
      "cell_type": "markdown",
      "metadata": {
        "id": "gDwIpuWiEB_t"
      },
      "source": [
        "### Create a character-level tokenizer"
      ]
    },
    {
      "cell_type": "code",
      "execution_count": null,
      "metadata": {
        "colab": {
          "base_uri": "https://localhost:8080/",
          "height": 53
        },
        "id": "bT5F37kFECHs",
        "outputId": "0f4f9593-2c73-4a47-cc2b-66febf58be25"
      },
      "outputs": [
        {
          "data": {
            "application/vnd.google.colaboratory.intrinsic+json": {
              "type": "string"
            },
            "text/plain": [
              "'i n f o r m a t i o n   f r o m   @   v i s i t s   o f   @   p a t i e n t s   a g e d   a t   l e a s t   @   y e a r s   b e i n g   t r e a t e d   f o r   h y p e r t e n s i o n   i n   t h e   s e c o n d   a u s t r a l i a n   n a t i o n a l   b l o o d   p r e s s u r e   s t u d y   w a s   u s e d   .'"
            ]
          },
          "execution_count": 215,
          "metadata": {},
          "output_type": "execute_result"
        }
      ],
      "source": [
        "# Make function to split sentences into characters\n",
        "def split_chars(text):\n",
        "  return \" \".join(list(text))\n",
        "\n",
        "# Chack the splitting function\n",
        "split_chars(random_training_sentence)"
      ]
    },
    {
      "cell_type": "code",
      "execution_count": null,
      "metadata": {
        "colab": {
          "base_uri": "https://localhost:8080/",
          "height": 70
        },
        "id": "l9e_0Bm1ECPs",
        "outputId": "aa525c41-01d7-490e-f5d2-88799cad9b1d"
      },
      "outputs": [
        {
          "data": {
            "application/vnd.google.colaboratory.intrinsic+json": {
              "type": "string"
            },
            "text/plain": [
              "'t o   i n v e s t i g a t e   t h e   e f f i c a c y   o f   @   w e e k s   o f   d a i l y   l o w - d o s e   o r a l   p r e d n i s o l o n e   i n   i m p r o v i n g   p a i n   ,   m o b i l i t y   ,   a n d   s y s t e m i c   l o w - g r a d e   i n f l a m m a t i o n   i n   t h e   s h o r t   t e r m   a n d   w h e t h e r   t h e   e f f e c t   w o u l d   b e   s u s t a i n e d   a t   @   w e e k s   i n   o l d e r   a d u l t s   w i t h   m o d e r a t e   t o   s e v e r e   k n e e   o s t e o a r t h r i t i s   (   o a   )   .'"
            ]
          },
          "execution_count": 216,
          "metadata": {},
          "output_type": "execute_result"
        }
      ],
      "source": [
        "\" \".join(list(train_sentences[0]))"
      ]
    },
    {
      "cell_type": "code",
      "execution_count": null,
      "metadata": {
        "colab": {
          "base_uri": "https://localhost:8080/"
        },
        "id": "bfrLWRqpECYs",
        "outputId": "a9ababbc-9728-40b8-f1a1-7e51306798e0"
      },
      "outputs": [
        {
          "data": {
            "text/plain": [
              "('t o   i n v e s t i g a t e   t h e   e f f i c a c y   o f   @   w e e k s   o f   d a i l y   l o w - d o s e   o r a l   p r e d n i s o l o n e   i n   i m p r o v i n g   p a i n   ,   m o b i l i t y   ,   a n d   s y s t e m i c   l o w - g r a d e   i n f l a m m a t i o n   i n   t h e   s h o r t   t e r m   a n d   w h e t h e r   t h e   e f f e c t   w o u l d   b e   s u s t a i n e d   a t   @   w e e k s   i n   o l d e r   a d u l t s   w i t h   m o d e r a t e   t o   s e v e r e   k n e e   o s t e o a r t h r i t i s   (   o a   )   .',\n",
              " 180040)"
            ]
          },
          "execution_count": 217,
          "metadata": {},
          "output_type": "execute_result"
        }
      ],
      "source": [
        "# Split all the data into character-level splits\n",
        "train_chars=[split_chars(sentence) for sentence in train_sentences]\n",
        "val_chars=[split_chars(sentence) for sentence in val_sentences]\n",
        "test_chars=[split_chars(sentence) for sentence in test_sentences]\n",
        "train_chars[0], len(train_chars)"
      ]
    },
    {
      "cell_type": "code",
      "execution_count": null,
      "metadata": {
        "colab": {
          "base_uri": "https://localhost:8080/"
        },
        "id": "w5KryNlMEChE",
        "outputId": "8c48ff21-9d17-4ea9-f065-29a946c45c9c"
      },
      "outputs": [
        {
          "data": {
            "text/plain": [
              "149.3662574983337"
            ]
          },
          "execution_count": 218,
          "metadata": {},
          "output_type": "execute_result"
        }
      ],
      "source": [
        "# What is the average character length?\n",
        "char_lens=[len(sentence) for sentence in train_sentences]\n",
        "char_lens[:3]\n",
        "mean_char_len=np.mean(char_lens)\n",
        "mean_char_len\n"
      ]
    },
    {
      "cell_type": "code",
      "execution_count": null,
      "metadata": {
        "colab": {
          "base_uri": "https://localhost:8080/",
          "height": 439
        },
        "id": "UBjNtjnFECos",
        "outputId": "00726c26-b7e6-417d-e694-bdbc1b52ecea"
      },
      "outputs": [
        {
          "data": {
            "text/plain": [
              "(array([2.2108e+04, 7.0583e+04, 5.3952e+04, 2.2391e+04, 7.4540e+03,\n",
              "        2.2350e+03, 8.0200e+02, 2.8700e+02, 1.1800e+02, 4.9000e+01,\n",
              "        2.9000e+01, 1.3000e+01, 8.0000e+00, 5.0000e+00, 1.0000e+00,\n",
              "        2.0000e+00, 1.0000e+00, 1.0000e+00, 0.0000e+00, 1.0000e+00]),\n",
              " array([1.00000e+00, 7.02500e+01, 1.39500e+02, 2.08750e+02, 2.78000e+02,\n",
              "        3.47250e+02, 4.16500e+02, 4.85750e+02, 5.55000e+02, 6.24250e+02,\n",
              "        6.93500e+02, 7.62750e+02, 8.32000e+02, 9.01250e+02, 9.70500e+02,\n",
              "        1.03975e+03, 1.10900e+03, 1.17825e+03, 1.24750e+03, 1.31675e+03,\n",
              "        1.38600e+03]),\n",
              " <a list of 20 Patch objects>)"
            ]
          },
          "execution_count": 219,
          "metadata": {},
          "output_type": "execute_result"
        },
        {
          "data": {
            "image/png": "[encoded data removed]",
            "text/plain": [
              "<Figure size 432x288 with 1 Axes>"
            ]
          },
          "metadata": {},
          "output_type": "display_data"
        }
      ],
      "source": [
        "plt.hist(char_lens, bins=20)"
      ]
    },
    {
      "cell_type": "markdown",
      "metadata": {
        "id": "Saw89mk8JnhH"
      },
      "source": [
        "**Note:**\n",
        "\n",
        "The difference betweeb how many words and how many characters given text contains:\n",
        "\n",
        "**len(text)-** calculates how many characters the string contains (including spaces)\n",
        "\n",
        "**len(text.split())-** calculate how many words the text contains. \n",
        "the default split argument in the split() function is \" \" thus it calculates words. \n",
        "\n",
        "*It can be change to calcule other segments in the text which separated by other character than \" \""
      ]
    },
    {
      "cell_type": "code",
      "execution_count": null,
      "metadata": {
        "colab": {
          "base_uri": "https://localhost:8080/"
        },
        "id": "sZGFr47BECwk",
        "outputId": "f4607de3-de1f-4aac-894d-6ccd09814e38"
      },
      "outputs": [
        {
          "data": {
            "text/plain": [
              "(8, 3)"
            ]
          },
          "execution_count": 220,
          "metadata": {},
          "output_type": "execute_result"
        }
      ],
      "source": [
        "sentence=\"ba ba ba\"\n",
        "len(sentence), len(sentence.split())"
      ]
    },
    {
      "cell_type": "code",
      "execution_count": null,
      "metadata": {
        "id": "5V7QXv7XJhn1"
      },
      "outputs": [],
      "source": [
        "# Find what character length covers 95% of the data\n",
        "output_seq_char_len=np.percentile(a=char_lens, q=95)"
      ]
    },
    {
      "cell_type": "code",
      "execution_count": null,
      "metadata": {
        "colab": {
          "base_uri": "https://localhost:8080/",
          "height": 35
        },
        "id": "uX2gGeGVLPWj",
        "outputId": "0c68f724-87b5-4214-9455-d95c43782492"
      },
      "outputs": [
        {
          "data": {
            "application/vnd.google.colaboratory.intrinsic+json": {
              "type": "string"
            },
            "text/plain": [
              "'abcdefghijklmnopqrstuvwxyz0123456789!\"#$%&\\'()*+,-./:;<=>?@[\\\\]^_`{|}~'"
            ]
          },
          "execution_count": 222,
          "metadata": {},
          "output_type": "execute_result"
        }
      ],
      "source": [
        "# Gat all keyboard characters\n",
        "import string\n",
        "alphabet=string.ascii_lowercase+ string.digits+ string.punctuation\n",
        "alphabet\n"
      ]
    },
    {
      "cell_type": "code",
      "execution_count": null,
      "metadata": {
        "id": "KhpmXeqBL05r"
      },
      "outputs": [],
      "source": [
        "# Create char-level token vectorizer\n",
        "NUM_CHAR_TOKENS=len(alphabet)+2 # add 2 for space and OOV/UNK token (OOV=out of vocab/Unkwon )\n",
        "NUM_CHAR_TOKENS\n",
        "\n",
        "\n",
        "char_vectorizer=TextVectorization(max_tokens=NUM_CHAR_TOKENS,\n",
        "                                  output_sequence_length=int(output_seq_char_len),\n",
        "                                  name=\"char_vectorizer\")\n"
      ]
    },
    {
      "cell_type": "code",
      "execution_count": null,
      "metadata": {
        "id": "KWQ-vXVNL1AU"
      },
      "outputs": [],
      "source": [
        "# Adapt character vectorizer to training characters \n",
        "\n",
        "char_vectorizer.adapt(train_chars)"
      ]
    },
    {
      "cell_type": "code",
      "execution_count": null,
      "metadata": {
        "colab": {
          "base_uri": "https://localhost:8080/"
        },
        "id": "w_9PKX3_L1Js",
        "outputId": "7fcfc7b8-47b9-45b7-d8f1-8b0531d2f606"
      },
      "outputs": [
        {
          "name": "stdout",
          "output_type": "stream",
          "text": [
            "10 most frequent characters: ['', '[UNK]', 'e', 't', 'i', 'a', 'n', 'o', 'r', 's']\n",
            "10 most rare charcters: ['k', 'x', 'z', 'q', 'j']\n",
            "The character vocabulary size is 28\n"
          ]
        },
        {
          "data": {
            "text/plain": [
              "28"
            ]
          },
          "execution_count": 225,
          "metadata": {},
          "output_type": "execute_result"
        }
      ],
      "source": [
        "# Chack character vocab stats\n",
        "char_vocab=char_vectorizer.get_vocabulary()\n",
        "print(f\"10 most frequent characters: {char_vocab[:10]}\")\n",
        "print(f\"10 most rare charcters: {char_vocab[-5:]}\")\n",
        "vocab_size=char_vectorizer.vocabulary_size()\n",
        "print(f\"The character vocabulary size is {vocab_size}\")\n",
        "len(char_vocab)"
      ]
    },
    {
      "cell_type": "code",
      "execution_count": null,
      "metadata": {
        "colab": {
          "base_uri": "https://localhost:8080/"
        },
        "id": "AmEvkbcZL1Q8",
        "outputId": "7367f419-a5af-450e-fc82-d161716c245c"
      },
      "outputs": [
        {
          "name": "stdout",
          "output_type": "stream",
          "text": [
            "char training text: a t   b a s e l i n e   ,   s y m p t o m s   w e r e   w o r s e   i n   m e n   w i t h   d e p r e s s i o n   a n d   m i c r o v a s c u l a r   c o m p l i c a t i o n s   b u t   d i d   n o t   c o r r e l a t e   w i t h   t   l e v e l s   .\n",
            "length of random train chars: 106\n",
            "\n",
            "Vectorized chars\n",
            " [[ 5  3 22  5  9  2 12  4  6  2  9 19 15 14  3  7 15  9 20  2  8  2 20  7\n",
            "   8  9  2  4  6 15  2  6 20  4  3 13 10  2 14  8  2  9  9  4  7  6  5  6\n",
            "  10 15  4 11  8  7 21  5  9 11 16 12  5  8 11  7 15 14 12  4 11  5  3  4\n",
            "   7  6  9 22 16  3 10  4 10  6  7  3 11  7  8  8  2 12  5  3  2 20  4  3\n",
            "  13  3 12  2 21  2 12  9  0  0  0  0  0  0  0  0  0  0  0  0  0  0  0  0\n",
            "   0  0  0  0  0  0  0  0  0  0  0  0  0  0  0  0  0  0  0  0  0  0  0  0\n",
            "   0  0  0  0  0  0  0  0  0  0  0  0  0  0  0  0  0  0  0  0  0  0  0  0\n",
            "   0  0  0  0  0  0  0  0  0  0  0  0  0  0  0  0  0  0  0  0  0  0  0  0\n",
            "   0  0  0  0  0  0  0  0  0  0  0  0  0  0  0  0  0  0  0  0  0  0  0  0\n",
            "   0  0  0  0  0  0  0  0  0  0  0  0  0  0  0  0  0  0  0  0  0  0  0  0\n",
            "   0  0  0  0  0  0  0  0  0  0  0  0  0  0  0  0  0  0  0  0  0  0  0  0\n",
            "   0  0  0  0  0  0  0  0  0  0  0  0  0  0  0  0  0  0  0  0  0  0  0  0\n",
            "   0  0]]\n",
            "\n",
            "Length of vectorized chars: 290\n"
          ]
        }
      ],
      "source": [
        "# Test the character vectorizer \n",
        "random_train_chars=random.choice(train_chars)\n",
        "print(f\"char training text: {random_train_chars}\")\n",
        "print(f\"length of random train chars: {len(random_train_chars.split())}\")\n",
        "\n",
        "vectorized_chars=char_vectorizer([random_train_chars])\n",
        "print(f\"\\nVectorized chars\\n {vectorized_chars}\")\n",
        "print(f\"\\nLength of vectorized chars: {len(vectorized_chars[0])}\")"
      ]
    },
    {
      "cell_type": "markdown",
      "metadata": {
        "id": "7HvMdVwnL1Y8"
      },
      "source": [
        "### Creating charcter-level embedding layer"
      ]
    },
    {
      "cell_type": "code",
      "execution_count": null,
      "metadata": {
        "id": "FDPxlA_8d0pI"
      },
      "outputs": [],
      "source": [
        "char_embed=layers.Embedding(input_dim=vocab_size,\n",
        "                            output_dim=25,\n",
        "                             mask_zero=False, # Use masking to handle variables with varying lengths\n",
        "                             name=\"char_embed\")"
      ]
    },
    {
      "cell_type": "code",
      "execution_count": null,
      "metadata": {
        "colab": {
          "base_uri": "https://localhost:8080/"
        },
        "id": "eqQ27XUdd1LY",
        "outputId": "596301a2-5efe-4087-da55-bc604cc9a9ec"
      },
      "outputs": [
        {
          "name": "stdout",
          "output_type": "stream",
          "text": [
            "char text: a t   b a s e l i n e   ,   s y m p t o m s   w e r e   w o r s e   i n   m e n   w i t h   d e p r e s s i o n   a n d   m i c r o v a s c u l a r   c o m p l i c a t i o n s   b u t   d i d   n o t   c o r r e l a t e   w i t h   t   l e v e l s   .\n",
            "vectorized text:\n",
            " [[ 5  3 22  5  9  2 12  4  6  2  9 19 15 14  3  7 15  9 20  2  8  2 20  7\n",
            "   8  9  2  4  6 15  2  6 20  4  3 13 10  2 14  8  2  9  9  4  7  6  5  6\n",
            "  10 15  4 11  8  7 21  5  9 11 16 12  5  8 11  7 15 14 12  4 11  5  3  4\n",
            "   7  6  9 22 16  3 10  4 10  6  7  3 11  7  8  8  2 12  5  3  2 20  4  3\n",
            "  13  3 12  2 21  2 12  9  0  0  0  0  0  0  0  0  0  0  0  0  0  0  0  0\n",
            "   0  0  0  0  0  0  0  0  0  0  0  0  0  0  0  0  0  0  0  0  0  0  0  0\n",
            "   0  0  0  0  0  0  0  0  0  0  0  0  0  0  0  0  0  0  0  0  0  0  0  0\n",
            "   0  0  0  0  0  0  0  0  0  0  0  0  0  0  0  0  0  0  0  0  0  0  0  0\n",
            "   0  0  0  0  0  0  0  0  0  0  0  0  0  0  0  0  0  0  0  0  0  0  0  0\n",
            "   0  0  0  0  0  0  0  0  0  0  0  0  0  0  0  0  0  0  0  0  0  0  0  0\n",
            "   0  0  0  0  0  0  0  0  0  0  0  0  0  0  0  0  0  0  0  0  0  0  0  0\n",
            "   0  0  0  0  0  0  0  0  0  0  0  0  0  0  0  0  0  0  0  0  0  0  0  0\n",
            "   0  0]]\n",
            "Embedded text char-level:\n",
            " [[[-0.00960575 -0.02239063 -0.03016899 ...  0.02009482  0.00600658\n",
            "   -0.02971612]\n",
            "  [-0.00128889 -0.00242747  0.0122645  ...  0.02911093 -0.01075793\n",
            "   -0.0263707 ]\n",
            "  [-0.02584699 -0.03264885 -0.03253646 ...  0.0305008   0.01447966\n",
            "   -0.01543734]\n",
            "  ...\n",
            "  [-0.04013387  0.01744585 -0.00642424 ...  0.0358032   0.04110876\n",
            "    0.03993751]\n",
            "  [-0.04013387  0.01744585 -0.00642424 ...  0.0358032   0.04110876\n",
            "    0.03993751]\n",
            "  [-0.04013387  0.01744585 -0.00642424 ...  0.0358032   0.04110876\n",
            "    0.03993751]]]\n",
            "Char embedding shape: (1, 290, 25)\n"
          ]
        }
      ],
      "source": [
        "# Test the character embedding layer\n",
        "print(f\"char text: {random_train_chars}\")\n",
        "print(f\"vectorized text:\\n {vectorized_chars}\")\n",
        "\n",
        "embedded_chars=char_embed(vectorized_chars)\n",
        "\n",
        "print(f\"Embedded text char-level:\\n {embedded_chars}\")\n",
        "print(f\"Char embedding shape: {embedded_chars.shape}\")"
      ]
    },
    {
      "cell_type": "markdown",
      "metadata": {
        "id": "pBCW7nLUoEUi"
      },
      "source": [
        "### Create datasets for char-level data for faster computational time"
      ]
    },
    {
      "cell_type": "code",
      "execution_count": null,
      "metadata": {
        "colab": {
          "base_uri": "https://localhost:8080/"
        },
        "id": "1ku40mYeoNEX",
        "outputId": "266a6b37-e73d-42e3-9e1c-5e3104156414"
      },
      "outputs": [
        {
          "data": {
            "text/plain": [
              "<TensorSliceDataset element_spec=(TensorSpec(shape=(), dtype=tf.string, name=None), TensorSpec(shape=(5,), dtype=tf.float64, name=None))>"
            ]
          },
          "execution_count": 229,
          "metadata": {},
          "output_type": "execute_result"
        }
      ],
      "source": [
        "# Turn char-level data into TEnsorFlow Dataset type:\n",
        "\n",
        "train_char_dataset=tf.data.Dataset.from_tensor_slices((train_chars,train_labels_one_hot))\n",
        "val_char_dataset=tf.data.Dataset.from_tensor_slices((val_chars,val_labels_one_hot))\n",
        "test_char_dataset=tf.data.Dataset.from_tensor_slices((test_chars,test_labels_one_hot))\n",
        "\n",
        "train_char_dataset"
      ]
    },
    {
      "cell_type": "code",
      "execution_count": null,
      "metadata": {
        "colab": {
          "base_uri": "https://localhost:8080/"
        },
        "id": "zcXFPyBeoNMv",
        "outputId": "98540f3e-7729-4efb-f56d-85228cfd8d90"
      },
      "outputs": [
        {
          "data": {
            "text/plain": [
              "<PrefetchDataset element_spec=(TensorSpec(shape=(None,), dtype=tf.string, name=None), TensorSpec(shape=(None, 5), dtype=tf.float64, name=None))>"
            ]
          },
          "execution_count": 230,
          "metadata": {},
          "output_type": "execute_result"
        }
      ],
      "source": [
        "\n",
        "# prefetch the data\n",
        "train_char_dataset=train_char_dataset.batch(32).prefetch(tf.data.AUTOTUNE)\n",
        "val_char_dataset=val_char_dataset.batch(32).prefetch(tf.data.AUTOTUNE)\n",
        "test_char_dataset=test_char_dataset.batch(32).prefetch(tf.data.AUTOTUNE)\n",
        "\n",
        "val_char_dataset"
      ]
    },
    {
      "cell_type": "code",
      "execution_count": null,
      "metadata": {
        "id": "j3NI92iooNV3"
      },
      "outputs": [],
      "source": [
        ""
      ]
    },
    {
      "cell_type": "markdown",
      "metadata": {
        "id": "yaBdE7LNoNfv"
      },
      "source": [
        "### Building the model"
      ]
    },
    {
      "cell_type": "code",
      "execution_count": null,
      "metadata": {
        "colab": {
          "base_uri": "https://localhost:8080/"
        },
        "id": "N9uyGSuXnPQi",
        "outputId": "e95e2fe2-46fe-46aa-93e6-c14b525a441d"
      },
      "outputs": [
        {
          "name": "stdout",
          "output_type": "stream",
          "text": [
            "Model: \"model_3_conv1D_char_embedding\"\n",
            "_________________________________________________________________\n",
            " Layer (type)                Output Shape              Param #   \n",
            "=================================================================\n",
            " input_10 (InputLayer)       [(None, 1)]               0         \n",
            "                                                                 \n",
            " char_vectorizer (TextVector  (None, 290)              0         \n",
            " ization)                                                        \n",
            "                                                                 \n",
            " char_embed (Embedding)      (None, 290, 25)           700       \n",
            "                                                                 \n",
            " conv1d_3 (Conv1D)           (None, 290, 64)           8064      \n",
            "                                                                 \n",
            " global_max_pooling1d_1 (Glo  (None, 64)               0         \n",
            " balMaxPooling1D)                                                \n",
            "                                                                 \n",
            " dense_20 (Dense)            (None, 5)                 325       \n",
            "                                                                 \n",
            "=================================================================\n",
            "Total params: 9,089\n",
            "Trainable params: 9,089\n",
            "Non-trainable params: 0\n",
            "_________________________________________________________________\n"
          ]
        }
      ],
      "source": [
        "# Build model 3\n",
        "\n",
        "inputs=layers.Input(shape=(1,),dtype=\"string\")\n",
        "char_vectors=char_vectorizer(inputs)\n",
        "char_embeddings=char_embed(char_vectors)\n",
        "\n",
        "x=layers.Conv1D(filters=64,kernel_size=5,padding=\"same\",activation=\"relu\")(char_embeddings)\n",
        "x=layers.GlobalMaxPool1D()(x)\n",
        "\n",
        "outputs=layers.Dense(num_classes,activation=\"softmax\")(x)\n",
        "\n",
        "model_3=tf.keras.Model(inputs, outputs, name=\"model_3_conv1D_char_embedding\")\n",
        "\n",
        "# Compile the model\n",
        "model_3.compile(loss=\"categorical_crossentropy\",\n",
        "                optimizer=tf.keras.optimizers.Adam(),\n",
        "                metrics=[\"accuracy\"])\n",
        "\n",
        "model_3.summary()\n",
        "\n"
      ]
    },
    {
      "cell_type": "code",
      "execution_count": null,
      "metadata": {
        "colab": {
          "base_uri": "https://localhost:8080/"
        },
        "id": "m5kjYxjuyyM8",
        "outputId": "020f7407-eeb5-4834-e896-d21fd7d74ca9"
      },
      "outputs": [
        {
          "name": "stdout",
          "output_type": "stream",
          "text": [
            "Epoch 1/3\n",
            "562/562 [==============================] - 4s 6ms/step - loss: 1.2741 - accuracy: 0.4786 - val_loss: 1.0489 - val_accuracy: 0.5901\n",
            "Epoch 2/3\n",
            "562/562 [==============================] - 6s 10ms/step - loss: 1.0170 - accuracy: 0.5921 - val_loss: 0.9473 - val_accuracy: 0.6247\n",
            "Epoch 3/3\n",
            "562/562 [==============================] - 6s 10ms/step - loss: 0.9361 - accuracy: 0.6356 - val_loss: 0.8750 - val_accuracy: 0.6576\n"
          ]
        }
      ],
      "source": [
        "model_3_history = model_3.fit(train_char_dataset,\n",
        "                              steps_per_epoch=int(0.1 * len(train_char_dataset)),\n",
        "                              epochs=3,\n",
        "                              validation_data=val_char_dataset,\n",
        "                              validation_steps=int(0.1 * len(val_char_dataset)))"
      ]
    },
    {
      "cell_type": "code",
      "execution_count": null,
      "metadata": {
        "colab": {
          "base_uri": "https://localhost:8080/"
        },
        "id": "ektt6VIcidVY",
        "outputId": "adeb2b61-a6a8-4942-80aa-d3ae9da8fc0d"
      },
      "outputs": [
        {
          "name": "stdout",
          "output_type": "stream",
          "text": [
            "945/945 [==============================] - 3s 3ms/step - loss: 0.9386 - accuracy: 0.6331\n",
            "[0.93857741355896, 0.6330597400665283]\n",
            "{'accuracy': 63.30597113729644, 'precision': 0.6567946891512026, 'recall': 0.6330597113729644, 'f1': 0.6191230528305641}\n"
          ]
        }
      ],
      "source": [
        "results_3=compare_results(model_3, val_data=val_char_dataset,val_labels=val_labels_encoded)"
      ]
    },
    {
      "cell_type": "code",
      "execution_count": null,
      "metadata": {
        "colab": {
          "base_uri": "https://localhost:8080/"
        },
        "id": "AjitLmYyidoo",
        "outputId": "736c8be4-1d25-4178-bf77-adc2733d28ef"
      },
      "outputs": [
        {
          "name": "stdout",
          "output_type": "stream",
          "text": [
            "945/945 [==============================] - 4s 5ms/step - loss: 0.8931 - accuracy: 0.6538\n"
          ]
        },
        {
          "data": {
            "text/plain": [
              "[0.8930662274360657, 0.6537799835205078]"
            ]
          },
          "execution_count": 234,
          "metadata": {},
          "output_type": "execute_result"
        }
      ],
      "source": [
        "model_3.evaluate(val_char_dataset)"
      ]
    },
    {
      "cell_type": "markdown",
      "metadata": {
        "id": "EXHqJUcAidvv"
      },
      "source": [
        "## Model 4: Combining pretrained token embeddings with character embeddings\n",
        "\n",
        "Steps:\n",
        "\n",
        "1. Create a pretrainde token embedding mdoel (similar to 'model_2').\n",
        "\n",
        "2. Create a caharacter embedding model (similar to 'model_3' with slight modification)\n",
        "\n",
        "3. Combaine 1 & 2 with a concatenate layer (layers.Concatenate)\n",
        "\n",
        "4. Build a series of output layers on top of 3. simialar to figure 1 and section 4.2 of the paper:\n",
        "https://arxiv.org/pdf/1612.05251.pdf\n",
        "\n",
        "5. Constract a model which takes tokens and character-level sequences as an input and produced sequence label probabilities as an output"
      ]
    },
    {
      "cell_type": "code",
      "execution_count": null,
      "metadata": {
        "id": "5JUgPanrieV4"
      },
      "outputs": [],
      "source": [
        "# 1. Setup the tokens inputs/model\n",
        "token_inputs=layers.Input(shape=[],dtype=tf.string, name=\"token_input\")\n",
        "token_embeddings=tf_hub_embedding_layer(token_inputs)\n",
        "token_outputs=layers.Dense(128,activation=\"relu\")(token_embeddings)\n",
        "token_model=tf.keras.Model(token_inputs,token_outputs)\n",
        "\n",
        "# 2. Setup the cahracter-level inputs/model\n",
        "char_inputs=layers.Input(shape=(1,),dtype=\"string\", name=\"char_inputs\")\n",
        "char_vectors=char_vectorizer(char_inputs)\n",
        "char_embeddings=char_embed(char_vectors)\n",
        "char_bi_lstm=layers.Bidirectional(layer=layers.LSTM(24))(char_embeddings)\n",
        "char_model=tf.keras.Model(char_inputs,char_bi_lstm)\n",
        "\n",
        "# 3. Concatenate token and char models (create a hybrid token embedding) \n",
        "token_char_concat=layers.Concatenate(name=\"token_char_hybrid\")([token_model.output,char_model.output])\n",
        "\n",
        "# 4. create output layers- adding Dropout, discussed in section 4.2 of the paper \n",
        "combined_dropout=layers.Dropout(0.5)(token_char_concat)\n",
        "combined_dense=layers.Dense(128, activation=\"relu\")(combined_dropout)\n",
        "final_dropout=layers.Dropout(0.5)(combined_dense)\n",
        "output_layer=layers.Dense(num_classes, activation=\"softmax\")(final_dropout)\n",
        "\n",
        "# 5. Constract model with char and token inputs\n",
        "model_4=tf.keras.Model(inputs=[token_model.input,char_model.input],\n",
        "                       outputs=output_layer,\n",
        "                       name=\"model_4_token_and_char_embedings\")"
      ]
    },
    {
      "cell_type": "code",
      "execution_count": null,
      "metadata": {
        "colab": {
          "base_uri": "https://localhost:8080/"
        },
        "id": "4RwGIYkeJBda",
        "outputId": "29bf5383-9589-46aa-fb2c-3077d12ae3ed"
      },
      "outputs": [
        {
          "name": "stdout",
          "output_type": "stream",
          "text": [
            "Model: \"model_4_token_and_char_embedings\"\n",
            "__________________________________________________________________________________________________\n",
            " Layer (type)                   Output Shape         Param #     Connected to                     \n",
            "==================================================================================================\n",
            " char_inputs (InputLayer)       [(None, 1)]          0           []                               \n",
            "                                                                                                  \n",
            " token_input (InputLayer)       [(None,)]            0           []                               \n",
            "                                                                                                  \n",
            " char_vectorizer (TextVectoriza  (None, 290)         0           ['char_inputs[0][0]']            \n",
            " tion)                                                                                            \n",
            "                                                                                                  \n",
            " universal_sentence_encoder (Ke  (None, 512)         256797824   ['token_input[0][0]']            \n",
            " rasLayer)                                                                                        \n",
            "                                                                                                  \n",
            " char_embed (Embedding)         (None, 290, 25)      700         ['char_vectorizer[1][0]']        \n",
            "                                                                                                  \n",
            " dense_21 (Dense)               (None, 128)          65664       ['universal_sentence_encoder[1][0\n",
            "                                                                 ]']                              \n",
            "                                                                                                  \n",
            " bidirectional_3 (Bidirectional  (None, 48)          9600        ['char_embed[1][0]']             \n",
            " )                                                                                                \n",
            "                                                                                                  \n",
            " token_char_hybrid (Concatenate  (None, 176)         0           ['dense_21[0][0]',               \n",
            " )                                                                'bidirectional_3[0][0]']        \n",
            "                                                                                                  \n",
            " dropout_3 (Dropout)            (None, 176)          0           ['token_char_hybrid[0][0]']      \n",
            "                                                                                                  \n",
            " dense_22 (Dense)               (None, 128)          22656       ['dropout_3[0][0]']              \n",
            "                                                                                                  \n",
            " dropout_4 (Dropout)            (None, 128)          0           ['dense_22[0][0]']               \n",
            "                                                                                                  \n",
            " dense_23 (Dense)               (None, 5)            645         ['dropout_4[0][0]']              \n",
            "                                                                                                  \n",
            "==================================================================================================\n",
            "Total params: 256,897,089\n",
            "Trainable params: 99,265\n",
            "Non-trainable params: 256,797,824\n",
            "__________________________________________________________________________________________________\n"
          ]
        }
      ],
      "source": [
        "# Get a summary of the model\n",
        "model_4.summary()"
      ]
    },
    {
      "cell_type": "code",
      "execution_count": null,
      "metadata": {
        "colab": {
          "base_uri": "https://localhost:8080/",
          "height": 976
        },
        "id": "5P1WLeeN5BFi",
        "outputId": "03bc2529-43eb-4af9-eacf-826df6690065"
      },
      "outputs": [
        {
          "data": {
            "image/png": "[encoded data removed]",
            "text/plain": [
              "<IPython.core.display.Image object>"
            ]
          },
          "execution_count": 237,
          "metadata": {},
          "output_type": "execute_result"
        }
      ],
      "source": [
        "# Plot hybrid token and character model\n",
        "from tensorflow.keras.utils import plot_model\n",
        "plot_model(model_4, show_shapes=True)"
      ]
    },
    {
      "cell_type": "code",
      "execution_count": null,
      "metadata": {
        "id": "6aKphVkw5BMG"
      },
      "outputs": [],
      "source": [
        "# Compile token char model\n",
        "model_4.compile(loss=tf.keras.losses.CategoricalCrossentropy(),\n",
        "                optimizer=tf.keras.optimizers.Adam(),\n",
        "                metrics=[\"accuracy\"])"
      ]
    },
    {
      "cell_type": "markdown",
      "metadata": {
        "id": "-P2H5CPs5BUK"
      },
      "source": [
        "### Creating a Dataset pipeline which combines both token and char inputs"
      ]
    },
    {
      "cell_type": "code",
      "execution_count": null,
      "metadata": {
        "id": "JuqzA9-C5BeS"
      },
      "outputs": [],
      "source": [
        "#train_char_dataset=tf.data.Dataset.from_tensor_slices((train_chars,train_labels_one_hot))batch(32).prefetch(tf.data.AUTOTUNE)\n",
        "# Create a combined token and char input dataset\n",
        "train_char_token_data=tf.data.Dataset.from_tensor_slices((train_sentences,train_chars))\n",
        "train_char_token_labels=tf.data.Dataset.from_tensor_slices((train_labels_one_hot))\n",
        "train_char_token_dataset=tf.data.Dataset.zip((train_char_token_data,train_char_token_labels))\n",
        "\n",
        "# Prefetch and batch train data\n",
        "train_char_token_dataset=train_char_token_dataset.batch(32).prefetch(tf.data.AUTOTUNE)\n"
      ]
    },
    {
      "cell_type": "code",
      "execution_count": null,
      "metadata": {
        "id": "UO7zajK35BmB"
      },
      "outputs": [],
      "source": [
        "# Repeat the above steps for valiadation data\n",
        "val_char_token_data=tf.data.Dataset.from_tensor_slices((val_sentences,val_chars))\n",
        "val_char_token_labels=tf.data.Dataset.from_tensor_slices((val_labels_one_hot))\n",
        "val_char_token_dataset=tf.data.Dataset.zip((val_char_token_data,val_char_token_labels))\n",
        "\n",
        "# Prefetch and batch train data\n",
        "val_char_token_dataset=val_char_token_dataset.batch(32).prefetch(tf.data.AUTOTUNE)"
      ]
    },
    {
      "cell_type": "code",
      "execution_count": null,
      "metadata": {
        "colab": {
          "base_uri": "https://localhost:8080/"
        },
        "id": "4_ZAoO4W5BuJ",
        "outputId": "11c77cbd-e6c4-4b5c-f1ff-730d7b164353"
      },
      "outputs": [
        {
          "data": {
            "text/plain": [
              "(5627,\n",
              " <PrefetchDataset element_spec=((TensorSpec(shape=(None,), dtype=tf.string, name=None), TensorSpec(shape=(None,), dtype=tf.string, name=None)), TensorSpec(shape=(None, 5), dtype=tf.float64, name=None))>)"
            ]
          },
          "execution_count": 241,
          "metadata": {},
          "output_type": "execute_result"
        }
      ],
      "source": [
        "# CHeck the training and validation token and char embedding dataset\n",
        "len(train_char_token_dataset), val_char_token_dataset"
      ]
    },
    {
      "cell_type": "markdown",
      "metadata": {
        "id": "X87KRSSOUd0l"
      },
      "source": [
        "**Note:** It is important to present the combined datasets (in this case the token-char dataset) **in the same order** as it was presented to the model:\n",
        "```\n",
        "model_4=tf.keras.Model(inputs=[token_model.input,char_model.input],\n",
        "```\n",
        "\n",
        "In this case the **token** inputs presented first, and it is in the same order in the combined dataset:\n",
        "```\n",
        "train_char_token_data=tf.data.Dataset.from_tensor_slices((train_sentences,train_chars))\n",
        "```"
      ]
    },
    {
      "cell_type": "markdown",
      "metadata": {
        "id": "Pyicg-MzUd88"
      },
      "source": [
        "### Fit model 4 and compare the results"
      ]
    },
    {
      "cell_type": "code",
      "execution_count": null,
      "metadata": {
        "colab": {
          "base_uri": "https://localhost:8080/"
        },
        "id": "PH30o3NJUeFn",
        "outputId": "350556f3-6c10-41af-861e-d93d59449519"
      },
      "outputs": [
        {
          "name": "stdout",
          "output_type": "stream",
          "text": [
            "Epoch 1/3\n",
            "562/562 [==============================] - 34s 46ms/step - loss: 0.9781 - accuracy: 0.6120 - val_loss: 0.7832 - val_accuracy: 0.7028\n",
            "Epoch 2/3\n",
            "562/562 [==============================] - 29s 51ms/step - loss: 0.8070 - accuracy: 0.6881 - val_loss: 0.7254 - val_accuracy: 0.7221\n",
            "Epoch 3/3\n",
            "562/562 [==============================] - 23s 40ms/step - loss: 0.7779 - accuracy: 0.7022 - val_loss: 0.6975 - val_accuracy: 0.7324\n"
          ]
        }
      ],
      "source": [
        "# Fit model 4\n",
        "history_4=model_4.fit(train_char_token_dataset,\n",
        "            epochs=3,\n",
        "            steps_per_epoch=int(0.1*len(train_char_token_dataset)),\n",
        "            validation_data=(val_char_token_dataset),\n",
        "            validation_steps=int(0.1*len(val_char_token_dataset)))"
      ]
    },
    {
      "cell_type": "code",
      "execution_count": null,
      "metadata": {
        "colab": {
          "base_uri": "https://localhost:8080/"
        },
        "id": "LUjQL9KBUeN1",
        "outputId": "c19d972a-a5ca-4f49-b387-1be2d972a21f"
      },
      "outputs": [
        {
          "name": "stdout",
          "output_type": "stream",
          "text": [
            "945/945 [==============================] - 17s 18ms/step - loss: 0.6969 - accuracy: 0.7331\n",
            "[0.6969004273414612, 0.7330861687660217]\n",
            "{'accuracy': 73.30861909175162, 'precision': 0.7339739922726018, 'recall': 0.7330861909175163, 'f1': 0.7305356596855421}\n"
          ]
        }
      ],
      "source": [
        "results_4=compare_results(model_4, val_data=val_char_token_dataset,val_labels=val_labels_encoded)"
      ]
    },
    {
      "cell_type": "markdown",
      "metadata": {
        "id": "j8C4gW5OUeX2"
      },
      "source": [
        "## Model 5- Transfer learning with pretrained token embedding + character embeddings + positional embeddings"
      ]
    },
    {
      "cell_type": "markdown",
      "metadata": {
        "id": "XTiH-NKt1uRV"
      },
      "source": [
        "### Extract the positional information (relative positin of line in the abstract) from the DataFrame\n",
        "\n",
        "This is a type of feature engineering- incorporating non-obvious information about the data that wasn't avaliable before without processing. \n",
        "\n",
        "**Note:** When doing feature engineering it is important to cosider whether this infotmation will be availiable in the test data."
      ]
    },
    {
      "cell_type": "code",
      "execution_count": null,
      "metadata": {
        "colab": {
          "base_uri": "https://localhost:8080/",
          "height": 206
        },
        "id": "-tfwmCxQ1uax",
        "outputId": "90653615-ad1e-44f5-8e53-8fe1df9bed2c"
      },
      "outputs": [
        {
          "data": {
            "text/html": [
              "\n",
              "  <div id=\"df-466d0a08-9c3c-4b58-863b-ef3096bb38af\">\n",
              "    <div class=\"colab-df-container\">\n",
              "      <div>\n",
              "<style scoped>\n",
              "    .dataframe tbody tr th:only-of-type {\n",
              "        vertical-align: middle;\n",
              "    }\n",
              "\n",
              "    .dataframe tbody tr th {\n",
              "        vertical-align: top;\n",
              "    }\n",
              "\n",
              "    .dataframe thead th {\n",
              "        text-align: right;\n",
              "    }\n",
              "</style>\n",
              "<table border=\"1\" class=\"dataframe\">\n",
              "  <thead>\n",
              "    <tr style=\"text-align: right;\">\n",
              "      <th></th>\n",
              "      <th>target</th>\n",
              "      <th>text</th>\n",
              "      <th>line_number</th>\n",
              "      <th>total_lines</th>\n",
              "    </tr>\n",
              "  </thead>\n",
              "  <tbody>\n",
              "    <tr>\n",
              "      <th>0</th>\n",
              "      <td>OBJECTIVE</td>\n",
              "      <td>to investigate the efficacy of @ weeks of dail...</td>\n",
              "      <td>0</td>\n",
              "      <td>11</td>\n",
              "    </tr>\n",
              "    <tr>\n",
              "      <th>1</th>\n",
              "      <td>METHODS</td>\n",
              "      <td>a total of @ patients with primary knee oa wer...</td>\n",
              "      <td>1</td>\n",
              "      <td>11</td>\n",
              "    </tr>\n",
              "    <tr>\n",
              "      <th>2</th>\n",
              "      <td>METHODS</td>\n",
              "      <td>outcome measures included pain reduction and i...</td>\n",
              "      <td>2</td>\n",
              "      <td>11</td>\n",
              "    </tr>\n",
              "    <tr>\n",
              "      <th>3</th>\n",
              "      <td>METHODS</td>\n",
              "      <td>pain was assessed using the visual analog pain...</td>\n",
              "      <td>3</td>\n",
              "      <td>11</td>\n",
              "    </tr>\n",
              "    <tr>\n",
              "      <th>4</th>\n",
              "      <td>METHODS</td>\n",
              "      <td>secondary outcome measures included the wester...</td>\n",
              "      <td>4</td>\n",
              "      <td>11</td>\n",
              "    </tr>\n",
              "  </tbody>\n",
              "</table>\n",
              "</div>\n",
              "      <button class=\"colab-df-convert\" onclick=\"convertToInteractive('df-466d0a08-9c3c-4b58-863b-ef3096bb38af')\"\n",
              "              title=\"Convert this dataframe to an interactive table.\"\n",
              "              style=\"display:none;\">\n",
              "        \n",
              "  <svg xmlns=\"http://www.w3.org/2000/svg\" height=\"24px\"viewBox=\"0 0 24 24\"\n",
              "       width=\"24px\">\n",
              "    <path d=\"M0 0h24v24H0V0z\" fill=\"none\"/>\n",
              "    <path d=\"M18.56 5.44l.94 2.06.94-2.06 2.06-.94-2.06-.94-.94-2.06-.94 2.06-2.06.94zm-11 1L8.5 8.5l.94-2.06 2.06-.94-2.06-.94L8.5 2.5l-.94 2.06-2.06.94zm10 10l.94 2.06.94-2.06 2.06-.94-2.06-.94-.94-2.06-.94 2.06-2.06.94z\"/><path d=\"M17.41 7.96l-1.37-1.37c-.4-.4-.92-.59-1.43-.59-.52 0-1.04.2-1.43.59L10.3 9.45l-7.72 7.72c-.78.78-.78 2.05 0 2.83L4 21.41c.39.39.9.59 1.41.59.51 0 1.02-.2 1.41-.59l7.78-7.78 2.81-2.81c.8-.78.8-2.07 0-2.86zM5.41 20L4 18.59l7.72-7.72 1.47 1.35L5.41 20z\"/>\n",
              "  </svg>\n",
              "      </button>\n",
              "      \n",
              "  <style>\n",
              "    .colab-df-container {\n",
              "      display:flex;\n",
              "      flex-wrap:wrap;\n",
              "      gap: 12px;\n",
              "    }\n",
              "\n",
              "    .colab-df-convert {\n",
              "      background-color: #E8F0FE;\n",
              "      border: none;\n",
              "      border-radius: 50%;\n",
              "      cursor: pointer;\n",
              "      display: none;\n",
              "      fill: #1967D2;\n",
              "      height: 32px;\n",
              "      padding: 0 0 0 0;\n",
              "      width: 32px;\n",
              "    }\n",
              "\n",
              "    .colab-df-convert:hover {\n",
              "      background-color: #E2EBFA;\n",
              "      box-shadow: 0px 1px 2px rgba(60, 64, 67, 0.3), 0px 1px 3px 1px rgba(60, 64, 67, 0.15);\n",
              "      fill: #174EA6;\n",
              "    }\n",
              "\n",
              "    [theme=dark] .colab-df-convert {\n",
              "      background-color: #3B4455;\n",
              "      fill: #D2E3FC;\n",
              "    }\n",
              "\n",
              "    [theme=dark] .colab-df-convert:hover {\n",
              "      background-color: #434B5C;\n",
              "      box-shadow: 0px 1px 3px 1px rgba(0, 0, 0, 0.15);\n",
              "      filter: drop-shadow(0px 1px 2px rgba(0, 0, 0, 0.3));\n",
              "      fill: #FFFFFF;\n",
              "    }\n",
              "  </style>\n",
              "\n",
              "      <script>\n",
              "        const buttonEl =\n",
              "          document.querySelector('#df-466d0a08-9c3c-4b58-863b-ef3096bb38af button.colab-df-convert');\n",
              "        buttonEl.style.display =\n",
              "          google.colab.kernel.accessAllowed ? 'block' : 'none';\n",
              "\n",
              "        async function convertToInteractive(key) {\n",
              "          const element = document.querySelector('#df-466d0a08-9c3c-4b58-863b-ef3096bb38af');\n",
              "          const dataTable =\n",
              "            await google.colab.kernel.invokeFunction('convertToInteractive',\n",
              "                                                     [key], {});\n",
              "          if (!dataTable) return;\n",
              "\n",
              "          const docLinkHtml = 'Like what you see? Visit the ' +\n",
              "            '<a target=\"_blank\" href=https://colab.research.google.com/notebooks/data_table.ipynb>data table notebook</a>'\n",
              "            + ' to learn more about interactive tables.';\n",
              "          element.innerHTML = '';\n",
              "          dataTable['output_type'] = 'display_data';\n",
              "          await google.colab.output.renderOutput(dataTable, element);\n",
              "          const docLink = document.createElement('div');\n",
              "          docLink.innerHTML = docLinkHtml;\n",
              "          element.appendChild(docLink);\n",
              "        }\n",
              "      </script>\n",
              "    </div>\n",
              "  </div>\n",
              "  "
            ],
            "text/plain": [
              "      target                                               text  line_number  \\\n",
              "0  OBJECTIVE  to investigate the efficacy of @ weeks of dail...            0   \n",
              "1    METHODS  a total of @ patients with primary knee oa wer...            1   \n",
              "2    METHODS  outcome measures included pain reduction and i...            2   \n",
              "3    METHODS  pain was assessed using the visual analog pain...            3   \n",
              "4    METHODS  secondary outcome measures included the wester...            4   \n",
              "\n",
              "   total_lines  \n",
              "0           11  \n",
              "1           11  \n",
              "2           11  \n",
              "3           11  \n",
              "4           11  "
            ]
          },
          "execution_count": 244,
          "metadata": {},
          "output_type": "execute_result"
        }
      ],
      "source": [
        "train_df.head()"
      ]
    },
    {
      "cell_type": "code",
      "execution_count": null,
      "metadata": {
        "colab": {
          "base_uri": "https://localhost:8080/"
        },
        "id": "nvcKQLvO1ulp",
        "outputId": "89f02545-753b-4a7b-8313-d6102bdc6ade"
      },
      "outputs": [
        {
          "data": {
            "text/plain": [
              "0     0.083333\n",
              "1     0.166667\n",
              "2     0.250000\n",
              "3     0.333333\n",
              "4     0.416667\n",
              "5     0.500000\n",
              "6     0.583333\n",
              "7     0.666667\n",
              "8     0.750000\n",
              "9     0.833333\n",
              "10    0.916667\n",
              "11    1.000000\n",
              "dtype: float64"
            ]
          },
          "execution_count": 245,
          "metadata": {},
          "output_type": "execute_result"
        }
      ],
      "source": [
        "train_position=(train_df[\"line_number\"]+1)/(train_df[\"total_lines\"]+1)\n",
        "train_position[:12]"
      ]
    },
    {
      "cell_type": "code",
      "execution_count": null,
      "metadata": {
        "colab": {
          "base_uri": "https://localhost:8080/",
          "height": 334
        },
        "id": "8Jlgw6H_1uu5",
        "outputId": "a0287c6a-9d62-4762-f191-58ec31cc571b"
      },
      "outputs": [
        {
          "data": {
            "text/plain": [
              "(array([4.5000e+04, 4.4941e+04, 4.2383e+04, 2.9914e+04, 1.2840e+04,\n",
              "        3.8000e+03, 9.1000e+02, 2.0000e+02, 4.3000e+01, 9.0000e+00]),\n",
              " array([ 0.,  3.,  6.,  9., 12., 15., 18., 21., 24., 27., 30.]),\n",
              " <a list of 10 Patch objects>)"
            ]
          },
          "execution_count": 246,
          "metadata": {},
          "output_type": "execute_result"
        },
        {
          "data": {
            "image/png": "[encoded data removed]",
            "text/plain": [
              "<Figure size 432x288 with 1 Axes>"
            ]
          },
          "metadata": {},
          "output_type": "display_data"
        }
      ],
      "source": [
        "# How many line numbers are there>\n",
        "plt.hist(train_df[\"line_number\"])"
      ]
    },
    {
      "cell_type": "code",
      "execution_count": null,
      "metadata": {
        "colab": {
          "base_uri": "https://localhost:8080/"
        },
        "id": "7wvlpp7b1u4S",
        "outputId": "bea88c14-2396-4f63-a265-9d29832e1728"
      },
      "outputs": [
        {
          "data": {
            "text/plain": [
              "0     15000\n",
              "1     15000\n",
              "2     15000\n",
              "3     15000\n",
              "4     14992\n",
              "5     14949\n",
              "6     14758\n",
              "7     14279\n",
              "8     13346\n",
              "9     11981\n",
              "10    10041\n",
              "11     7892\n",
              "12     5853\n",
              "13     4152\n",
              "14     2835\n",
              "15     1861\n",
              "16     1188\n",
              "17      751\n",
              "18      462\n",
              "19      286\n",
              "20      162\n",
              "21      101\n",
              "22       66\n",
              "23       33\n",
              "24       22\n",
              "25       14\n",
              "26        7\n",
              "27        4\n",
              "28        3\n",
              "29        1\n",
              "30        1\n",
              "Name: line_number, dtype: int64"
            ]
          },
          "execution_count": 247,
          "metadata": {},
          "output_type": "execute_result"
        }
      ],
      "source": [
        "train_df.line_number.value_counts()"
      ]
    },
    {
      "cell_type": "code",
      "execution_count": null,
      "metadata": {
        "colab": {
          "base_uri": "https://localhost:8080/"
        },
        "id": "_3aVJjcZ1vBh",
        "outputId": "5cdc5c3a-3336-494b-c9a9-55343fc9f51c"
      },
      "outputs": [
        {
          "data": {
            "text/plain": [
              "13.0"
            ]
          },
          "execution_count": 248,
          "metadata": {},
          "output_type": "execute_result"
        }
      ],
      "source": [
        "# 95% of the lines are\n",
        "line_number=np.percentile(train_df[\"line_number\"], 95)\n",
        "line_number"
      ]
    },
    {
      "cell_type": "code",
      "execution_count": null,
      "metadata": {
        "colab": {
          "base_uri": "https://localhost:8080/"
        },
        "id": "ODik35uq1vKJ",
        "outputId": "5feee1c1-286e-423e-aa17-d6bf30f1c2f6"
      },
      "outputs": [
        {
          "data": {
            "text/plain": [
              "(<tf.Tensor: shape=(6, 15), dtype=float32, numpy=\n",
              " array([[1., 0., 0., 0., 0., 0., 0., 0., 0., 0., 0., 0., 0., 0., 0.],\n",
              "        [0., 1., 0., 0., 0., 0., 0., 0., 0., 0., 0., 0., 0., 0., 0.],\n",
              "        [0., 0., 1., 0., 0., 0., 0., 0., 0., 0., 0., 0., 0., 0., 0.],\n",
              "        [0., 0., 0., 1., 0., 0., 0., 0., 0., 0., 0., 0., 0., 0., 0.],\n",
              "        [0., 0., 0., 0., 1., 0., 0., 0., 0., 0., 0., 0., 0., 0., 0.],\n",
              "        [0., 0., 0., 0., 0., 1., 0., 0., 0., 0., 0., 0., 0., 0., 0.]],\n",
              "       dtype=float32)>,\n",
              " TensorShape([180040, 15]),\n",
              " TensorShape([30212, 15]),\n",
              " TensorShape([30135, 15]))"
            ]
          },
          "execution_count": 249,
          "metadata": {},
          "output_type": "execute_result"
        }
      ],
      "source": [
        "# Use TensorFloe to create one-hot-encoded tensors of the 'line_numbers' feature\n",
        "train_line_numbers_one_hot=tf.one_hot(train_df[\"line_number\"].to_numpy(), depth=15)\n",
        "val_line_numbers_one_hot=tf.one_hot(val_df[\"line_number\"].to_numpy(), depth=15)\n",
        "test_line_numbers_one_hot=tf.one_hot(test_df[\"line_number\"].to_numpy(), depth=15)\n",
        "train_line_numbers_one_hot[:6], train_line_numbers_one_hot.shape, val_line_numbers_one_hot.shape, test_line_numbers_one_hot.shape"
      ]
    },
    {
      "cell_type": "markdown",
      "metadata": {
        "id": "YhnftXKA91Pq"
      },
      "source": [
        "**Note:** At the end of this section try to use the relative position information (\"train_position\") instead of the one hot encoded during training and test the results."
      ]
    },
    {
      "cell_type": "code",
      "execution_count": null,
      "metadata": {
        "colab": {
          "base_uri": "https://localhost:8080/",
          "height": 336
        },
        "id": "Fav0t3MA91XJ",
        "outputId": "01278ea0-79be-45db-b7d8-dc51ef851da8"
      },
      "outputs": [
        {
          "data": {
            "text/plain": [
              "(array([ 1393., 23102., 67507., 40551., 32807., 11026.,  2051.,  1223.,\n",
              "          291.,    89.]),\n",
              " array([ 3. ,  5.7,  8.4, 11.1, 13.8, 16.5, 19.2, 21.9, 24.6, 27.3, 30. ]),\n",
              " <a list of 10 Patch objects>)"
            ]
          },
          "execution_count": 250,
          "metadata": {},
          "output_type": "execute_result"
        },
        {
          "data": {
            "image/png": "[encoded data removed]",
            "text/plain": [
              "<Figure size 432x288 with 1 Axes>"
            ]
          },
          "metadata": {},
          "output_type": "display_data"
        }
      ],
      "source": [
        "# Explore the total lines parameter\n",
        "plt.hist(train_df.total_lines)"
      ]
    },
    {
      "cell_type": "code",
      "execution_count": null,
      "metadata": {
        "colab": {
          "base_uri": "https://localhost:8080/"
        },
        "id": "nqrpWWAJ91ex",
        "outputId": "e63cccf2-9c09-422d-dd71-eca235468447"
      },
      "outputs": [
        {
          "data": {
            "text/plain": [
              "18.0"
            ]
          },
          "execution_count": 251,
          "metadata": {},
          "output_type": "execute_result"
        }
      ],
      "source": [
        "#95% of the total lines are:\n",
        "total_lines=np.percentile(train_df[\"total_lines\"], 95)\n",
        "total_lines"
      ]
    },
    {
      "cell_type": "code",
      "execution_count": null,
      "metadata": {
        "colab": {
          "base_uri": "https://localhost:8080/"
        },
        "id": "zWZuHDMx91n5",
        "outputId": "05f12a76-1d72-47ed-bb9f-63e589c38ab2"
      },
      "outputs": [
        {
          "data": {
            "text/plain": [
              "(<tf.Tensor: shape=(5, 20), dtype=float32, numpy=\n",
              " array([[0., 0., 0., 0., 0., 0., 0., 0., 0., 0., 0., 1., 0., 0., 0., 0.,\n",
              "         0., 0., 0., 0.],\n",
              "        [0., 0., 0., 0., 0., 0., 0., 0., 0., 0., 0., 1., 0., 0., 0., 0.,\n",
              "         0., 0., 0., 0.],\n",
              "        [0., 0., 0., 0., 0., 0., 0., 0., 0., 0., 0., 1., 0., 0., 0., 0.,\n",
              "         0., 0., 0., 0.],\n",
              "        [0., 0., 0., 0., 0., 0., 0., 0., 0., 0., 0., 1., 0., 0., 0., 0.,\n",
              "         0., 0., 0., 0.],\n",
              "        [0., 0., 0., 0., 0., 0., 0., 0., 0., 0., 0., 1., 0., 0., 0., 0.,\n",
              "         0., 0., 0., 0.]], dtype=float32)>,\n",
              " TensorShape([180040, 20]),\n",
              " TensorShape([30212, 20]),\n",
              " TensorShape([30135, 20]))"
            ]
          },
          "execution_count": 252,
          "metadata": {},
          "output_type": "execute_result"
        }
      ],
      "source": [
        "# One hot encoding of the total lines \n",
        "train_total_lines_one_hot=tf.one_hot(train_df.total_lines.to_numpy(), depth=20)\n",
        "val_total_lines_one_hot=tf.one_hot(val_df[\"total_lines\"].to_numpy(), depth=20)\n",
        "test_total_lines=tf.one_hot(test_df.total_lines.to_numpy(), depth=20)\n",
        "train_total_lines_one_hot[:5],train_total_lines_one_hot.shape, val_total_lines_one_hot.shape, test_total_lines.shape "
      ]
    },
    {
      "cell_type": "markdown",
      "metadata": {
        "id": "9TbD9d-oUeit"
      },
      "source": [
        "### Building a trybrid embedding model\n",
        "\n",
        "Steps:\n",
        "\n",
        "1. Create a tolen level model\n",
        "2. Create a character level model\n",
        "3. Create a model for the 'line number' feature\n",
        "4. Create a model for the total lines feature \n",
        "5. Combine the outputs of models 1 & 2 using tf.keras.layers.Concatenate\n",
        "6. Combine 3, 4 & 5 using tf.keras.layers.Concatenate\n",
        "7. Create an output layer to accept the tribride embedding and output label procabilities \n",
        "8. Combine the inputs of 1,2,3 & 4 and the outputs of 7 into tf.keras.Model"
      ]
    },
    {
      "cell_type": "code",
      "execution_count": null,
      "metadata": {
        "id": "34_IT-iMd12-"
      },
      "outputs": [],
      "source": [
        "# 1. Token inputs\n",
        "token_inputs=layers.Input(shape=[], dtype=tf.string, name=\"token_inputs\")\n",
        "token_embeddings=tf_hub_embedding_layer(token_inputs)\n",
        "token_outputs=layers.Dense(128, activation=\"relu\")(token_embeddings)\n",
        "token_model=tf.keras.Model(token_inputs, token_outputs, name=\"token_model\")\n",
        "\n",
        "# 2. Create character level model\n",
        "char_inputs=layers.Input(shape=(1,), dtype=\"string\", name=\"char_inputs\")\n",
        "char_vectors=char_vectorizer(char_inputs)\n",
        "char_embeddings=char_embed(char_vectors)\n",
        "char_bi_lstm=layers.Bidirectional(layer=layers.LSTM(24))(char_embeddings)\n",
        "chaR_model=tf.keras.Model(char_inputs,char_bi_lstm, name=\"char_model\")\n",
        "\n",
        "# 5. Combine token and char embeddings\n",
        "token_char_concat=layers.Concatenate(name=\"token_char_hybride\")([token_model.output, char_model.output])\n",
        "z=layers.Dense(256, activation=\"relu\")(token_char_concat)\n",
        "z=layers.Dropout(0.5)(z)\n"
      ]
    },
    {
      "cell_type": "markdown",
      "metadata": {
        "id": "idu6TNC_EgcJ"
      },
      "source": [
        "How to know which input shape we need?\n",
        "Take the first raw of the data which will be input for the model. \n",
        "Example:\n",
        "\n",
        "```\n",
        "train_line_numbers_one_hot[0].shape\n",
        "```\n",
        "\n",
        "What stype should the input layer take?\n",
        "Chack the dtype of the first raw in the input data:\n",
        "\n",
        "```\n",
        "train_line_numbers_one_hot.dtype\n",
        "```"
      ]
    },
    {
      "cell_type": "code",
      "execution_count": null,
      "metadata": {
        "colab": {
          "base_uri": "https://localhost:8080/"
        },
        "id": "XvmjAik_Q_yz",
        "outputId": "67b184e5-df67-42d5-9041-65e97bc761be"
      },
      "outputs": [
        {
          "data": {
            "text/plain": [
              "(TensorShape([15]), tf.float32)"
            ]
          },
          "execution_count": 255,
          "metadata": {},
          "output_type": "execute_result"
        }
      ],
      "source": [
        "train_line_numbers_one_hot[0].shape, train_line_numbers_one_hot[0].dtype"
      ]
    },
    {
      "cell_type": "code",
      "execution_count": null,
      "metadata": {
        "colab": {
          "base_uri": "https://localhost:8080/"
        },
        "id": "F8zPEM_IRUWy",
        "outputId": "c29995d6-c9d4-4be3-fe06-74c1f9816e10"
      },
      "outputs": [
        {
          "data": {
            "text/plain": [
              "tf.float32"
            ]
          },
          "execution_count": 256,
          "metadata": {},
          "output_type": "execute_result"
        }
      ],
      "source": [
        "train_total_lines_one_hot[0].dtype"
      ]
    },
    {
      "cell_type": "code",
      "execution_count": null,
      "metadata": {
        "id": "R_uimXxIEgj8"
      },
      "outputs": [],
      "source": [
        "# 3. Create model for line number feature\n",
        "line_number_inputs=layers.Input(shape=(15,), dtype=tf.float32, name=\"line_number_inputs\")\n",
        "x=layers.Dense(32,activation=\"relu\")(line_number_inputs)\n",
        "line_number_model=tf.keras.Model(line_number_inputs,x, name=\"line_number_model\")\n",
        "\n",
        "\n",
        "# 4. Create model for the total lines feature\n",
        "total_lines_inputs=layers.Input(shape=(20,),dtype=\"float32\", name=\"total_lines_inputs\")\n",
        "y=layers.Dense(32,activation=\"relu\")(total_lines_inputs)\n",
        "total_lines_model=tf.keras.Model(total_lines_inputs,\n",
        "                                 y,\n",
        "                                 name=\"total_lines_model\")\n",
        "#6. combine 3, 4 & 5:\n",
        "trybrid_embeddings=layers.Concatenate(name=\"char_token_positional_embedding\")([line_number_model.output, \n",
        "                                                                               total_lines_model.output,\n",
        "                                                                               z])\n",
        "\n",
        "\n",
        "\n"
      ]
    },
    {
      "cell_type": "code",
      "execution_count": null,
      "metadata": {
        "id": "zog3jNBpEgsR"
      },
      "outputs": [],
      "source": [
        "# 7. Create output layer\n",
        "output_layer=layers.Dense(num_classes,activation=\"softmax\", name=\"output_layer\")(trybrid_embeddings)\n",
        "\n",
        "# 8. Make a keras model\n",
        "model_5= tf.keras.Model(inputs=[line_number_model.input,\n",
        "                                total_lines_model.input,\n",
        "                                token_model.input,\n",
        "                                char_model.input],\n",
        "                        outputs=output_layer,\n",
        "                        name=\"model_5_trybrid\")"
      ]
    },
    {
      "cell_type": "code",
      "execution_count": null,
      "metadata": {
        "colab": {
          "base_uri": "https://localhost:8080/"
        },
        "id": "kH2_ztSzWSTD",
        "outputId": "61d846d1-8826-4073-e0a1-6fa1e133f5f1"
      },
      "outputs": [
        {
          "name": "stdout",
          "output_type": "stream",
          "text": [
            "Model: \"model_5_trybrid\"\n",
            "__________________________________________________________________________________________________\n",
            " Layer (type)                   Output Shape         Param #     Connected to                     \n",
            "==================================================================================================\n",
            " char_inputs (InputLayer)       [(None, 1)]          0           []                               \n",
            "                                                                                                  \n",
            " token_inputs (InputLayer)      [(None,)]            0           []                               \n",
            "                                                                                                  \n",
            " char_vectorizer (TextVectoriza  (None, 290)         0           ['char_inputs[0][0]']            \n",
            " tion)                                                                                            \n",
            "                                                                                                  \n",
            " universal_sentence_encoder (Ke  (None, 512)         256797824   ['token_inputs[0][0]']           \n",
            " rasLayer)                                                                                        \n",
            "                                                                                                  \n",
            " char_embed (Embedding)         (None, 290, 25)      700         ['char_vectorizer[1][0]']        \n",
            "                                                                                                  \n",
            " dense_24 (Dense)               (None, 128)          65664       ['universal_sentence_encoder[2][0\n",
            "                                                                 ]']                              \n",
            "                                                                                                  \n",
            " bidirectional_3 (Bidirectional  (None, 48)          9600        ['char_embed[1][0]']             \n",
            " )                                                                                                \n",
            "                                                                                                  \n",
            " token_char_hybride (Concatenat  (None, 176)         0           ['dense_24[0][0]',               \n",
            " e)                                                               'bidirectional_3[0][0]']        \n",
            "                                                                                                  \n",
            " line_number_inputs (InputLayer  [(None, 15)]        0           []                               \n",
            " )                                                                                                \n",
            "                                                                                                  \n",
            " total_lines_inputs (InputLayer  [(None, 20)]        0           []                               \n",
            " )                                                                                                \n",
            "                                                                                                  \n",
            " dense_25 (Dense)               (None, 256)          45312       ['token_char_hybride[0][0]']     \n",
            "                                                                                                  \n",
            " dense_26 (Dense)               (None, 32)           512         ['line_number_inputs[0][0]']     \n",
            "                                                                                                  \n",
            " dense_27 (Dense)               (None, 32)           672         ['total_lines_inputs[0][0]']     \n",
            "                                                                                                  \n",
            " dropout_5 (Dropout)            (None, 256)          0           ['dense_25[0][0]']               \n",
            "                                                                                                  \n",
            " char_token_positional_embeddin  (None, 320)         0           ['dense_26[0][0]',               \n",
            " g (Concatenate)                                                  'dense_27[0][0]',               \n",
            "                                                                  'dropout_5[0][0]']              \n",
            "                                                                                                  \n",
            " output_layer (Dense)           (None, 5)            1605        ['char_token_positional_embedding\n",
            "                                                                 [0][0]']                         \n",
            "                                                                                                  \n",
            "==================================================================================================\n",
            "Total params: 256,921,889\n",
            "Trainable params: 124,065\n",
            "Non-trainable params: 256,797,824\n",
            "__________________________________________________________________________________________________\n"
          ]
        }
      ],
      "source": [
        "# Get a summary of the trybrid model\n",
        "model_5.summary()"
      ]
    },
    {
      "cell_type": "code",
      "execution_count": null,
      "metadata": {
        "colab": {
          "base_uri": "https://localhost:8080/",
          "height": 844
        },
        "id": "WPh6NmbCWSaa",
        "outputId": "32301f61-c539-4087-9a23-cf04dac7f8e1"
      },
      "outputs": [
        {
          "data": {
            "image/png": "[encoded data removed]",
            "text/plain": [
              "<IPython.core.display.Image object>"
            ]
          },
          "execution_count": 260,
          "metadata": {},
          "output_type": "execute_result"
        }
      ],
      "source": [
        "from tensorflow.keras.utils import plot_model\n",
        "plot_model(model_5, show_shapes=True)"
      ]
    },
    {
      "cell_type": "markdown",
      "metadata": {
        "id": "eR1EGIOUr45W"
      },
      "source": [
        "What is label smoothing?\n",
        "\n",
        "For example, if the model gets too confident about one of the classes (i.e the prediction probability for this class will be really high) it may not consider other possible classes for this target.\n",
        "\n",
        "Example for really confident prediction:\n",
        "``` \n",
        "'[0.0, 0.0, 1.0, 0.0, 0.0]'\n",
        "```\n",
        "What label smoothing does is to assign some of the values from the highest pred prob to other classes. This should help the model improve generalization.\n",
        "\n",
        "For example it can convert the above preditions into:\n",
        "```\n",
        "'[0.01, 0.01, 0.96, 0.01, 0.01]'\n",
        "```"
      ]
    },
    {
      "cell_type": "markdown",
      "metadata": {
        "id": "Y01sx8w_tvX9"
      },
      "source": [
        "**Note:** Categorical crossentropy require the labels to be one-hot-encode. This is another reason  (in addition to the method **tf.data.Dataset** method that requires this) that we used one hot encoded data."
      ]
    },
    {
      "cell_type": "code",
      "execution_count": null,
      "metadata": {
        "id": "NEoPoj3OWS0y"
      },
      "outputs": [],
      "source": [
        "# Compile model 5\n",
        "model_5.compile(loss=tf.keras.losses.CategoricalCrossentropy(label_smoothing=0.2), # Hekps to prevent overfitting\n",
        "                optimizer=tf.keras.optimizers.Adam(),\n",
        "                metrics=[\"accuracy\"])"
      ]
    },
    {
      "cell_type": "markdown",
      "metadata": {
        "id": "rlMRpT4XWTTr"
      },
      "source": [
        "### Create trybrid embedding Datasets using tf.data.Dateset method "
      ]
    },
    {
      "cell_type": "code",
      "execution_count": null,
      "metadata": {
        "id": "ExgO1ObMWTfD"
      },
      "outputs": [],
      "source": [
        "'''train_line_dataset=tf.data.Dataset.from_tensor_slices((train_line_numbers_one_hot))\n",
        "train_total_lines_dataset=tf.data.Dataset.from_tensor_slices((train_total_lines_one_hot))\n",
        "train_line_dataset, train_total_lines_datase'''\n"
      ]
    },
    {
      "cell_type": "code",
      "execution_count": null,
      "metadata": {
        "id": "iempsCrSWTrz"
      },
      "outputs": [],
      "source": [
        "# The Dataset should be insetted in this order:\n",
        "                            ''' line_number_model.input,\n",
        "                                total_lines_model.input,\n",
        "                                token_model.input,\n",
        "                                char_model.input],'''"
      ]
    },
    {
      "cell_type": "code",
      "execution_count": null,
      "metadata": {
        "id": "CjqowjZmWT4S"
      },
      "outputs": [],
      "source": [
        "# Creating training and validation Datasets with all 4 kinds of inputs\n",
        "train_char_token_pos_data=tf.data.Dataset.from_tensor_slices((train_line_numbers_one_hot,\n",
        "                                                          train_total_lines_one_hot,\n",
        "                                                          train_sentences,\n",
        "                                                          train_chars))\n",
        "train_char_token_pos_labels=tf.data.Dataset.from_tensor_slices((train_labels_one_hot))\n",
        "\n",
        "# Zip the datasets together\n",
        "train_char_token_pos_dataset=tf.data.Dataset.zip((train_char_token_pos_data,train_char_token_pos_labels))\n",
        "\n",
        "# Turn it into batches and prefetch it\n",
        "train_char_token_pos_dataset=train_char_token_pos_dataset.batch(32).prefetch(tf.data.AUTOTUNE)\n",
        "\n",
        "# Same for validation dataset\n",
        "val_char_token_pos_data=tf.data.Dataset.from_tensor_slices((val_line_numbers_one_hot,\n",
        "                                                          val_total_lines_one_hot,\n",
        "                                                          val_sentences,\n",
        "                                                          val_chars))\n",
        "val_char_token_pos_labels=tf.data.Dataset.from_tensor_slices((val_labels_one_hot))\n",
        "\n",
        "# Zip the datasets together\n",
        "val_char_token_pos_dataset=tf.data.Dataset.zip((val_char_token_pos_data,val_char_token_pos_labels))\n",
        "\n",
        "# Turn it into batches and prefetch it\n",
        "val_char_token_pos_dataset=val_char_token_pos_dataset.batch(32).prefetch(tf.data.AUTOTUNE)\n",
        "\n"
      ]
    },
    {
      "cell_type": "code",
      "execution_count": null,
      "metadata": {
        "colab": {
          "base_uri": "https://localhost:8080/"
        },
        "id": "6ybVS92QWUDD",
        "outputId": "3061db62-00a5-4428-a6e7-da860d3be984"
      },
      "outputs": [
        {
          "data": {
            "text/plain": [
              "(<PrefetchDataset element_spec=((TensorSpec(shape=(None, 15), dtype=tf.float32, name=None), TensorSpec(shape=(None, 20), dtype=tf.float32, name=None), TensorSpec(shape=(None,), dtype=tf.string, name=None), TensorSpec(shape=(None,), dtype=tf.string, name=None)), TensorSpec(shape=(None, 5), dtype=tf.float64, name=None))>,\n",
              " <PrefetchDataset element_spec=((TensorSpec(shape=(None, 15), dtype=tf.float32, name=None), TensorSpec(shape=(None, 20), dtype=tf.float32, name=None), TensorSpec(shape=(None,), dtype=tf.string, name=None), TensorSpec(shape=(None,), dtype=tf.string, name=None)), TensorSpec(shape=(None, 5), dtype=tf.float64, name=None))>)"
            ]
          },
          "execution_count": 270,
          "metadata": {},
          "output_type": "execute_result"
        }
      ],
      "source": [
        "# Chack the Datasets chapes\n",
        "train_char_token_pos_dataset, val_char_token_pos_dataset"
      ]
    },
    {
      "cell_type": "markdown",
      "metadata": {
        "id": "J990bYOnxtpu"
      },
      "source": [
        "### Fitiing evaluating and making preditions with the trybrid model"
      ]
    },
    {
      "cell_type": "code",
      "execution_count": null,
      "metadata": {
        "colab": {
          "base_uri": "https://localhost:8080/"
        },
        "id": "Ie5_eF3QxtwQ",
        "outputId": "8d0f5ae4-4ce1-43e3-b0a4-a123d35e537a"
      },
      "outputs": [
        {
          "name": "stdout",
          "output_type": "stream",
          "text": [
            "Epoch 1/3\n",
            "562/562 [==============================] - 23s 34ms/step - loss: 1.0921 - accuracy: 0.7269 - val_loss: 0.9817 - val_accuracy: 0.8052\n",
            "Epoch 2/3\n",
            "562/562 [==============================] - 18s 32ms/step - loss: 0.9660 - accuracy: 0.8144 - val_loss: 0.9497 - val_accuracy: 0.8295\n",
            "Epoch 3/3\n",
            "562/562 [==============================] - 18s 32ms/step - loss: 0.9486 - accuracy: 0.8232 - val_loss: 0.9361 - val_accuracy: 0.8334\n"
          ]
        }
      ],
      "source": [
        "history_5=model_5.fit(train_char_token_pos_dataset,\n",
        "                      epochs=3,\n",
        "                      steps_per_epoch=int(0.1*len(train_char_token_pos_dataset)),\n",
        "                      validation_data=(val_char_token_pos_dataset),\n",
        "                      validation_steps=int(0.1*len(val_char_token_pos_dataset)))"
      ]
    },
    {
      "cell_type": "code",
      "execution_count": null,
      "metadata": {
        "colab": {
          "base_uri": "https://localhost:8080/"
        },
        "id": "13vJIslkxuLd",
        "outputId": "710f2eda-6030-4c5d-9243-d16f4298ca2a"
      },
      "outputs": [
        {
          "name": "stdout",
          "output_type": "stream",
          "text": [
            "945/945 [==============================] - 17s 18ms/step - loss: 0.9354 - accuracy: 0.8328\n",
            "[0.935370683670044, 0.8327816724777222]\n",
            "{'accuracy': 83.27816761551702, 'precision': 0.831583483747044, 'recall': 0.8327816761551702, 'f1': 0.8315163413063412}\n"
          ]
        },
        {
          "data": {
            "text/plain": [
              "{'accuracy': 83.27816761551702,\n",
              " 'f1': 0.8315163413063412,\n",
              " 'precision': 0.831583483747044,\n",
              " 'recall': 0.8327816761551702}"
            ]
          },
          "execution_count": 275,
          "metadata": {},
          "output_type": "execute_result"
        }
      ],
      "source": [
        "results_5=compare_results(model_5, val_data=val_char_token_pos_dataset,val_labels=val_labels_encoded)\n",
        "results_5"
      ]
    },
    {
      "cell_type": "markdown",
      "metadata": {
        "id": "slHMpn_OxuWV"
      },
      "source": [
        "## Compare models results"
      ]
    },
    {
      "cell_type": "code",
      "execution_count": null,
      "metadata": {
        "id": "v658ZZSGxuiV"
      },
      "outputs": [],
      "source": [
        "# Combine models results into a DataFrame\n",
        "all_model_results=pd.DataFrame({\"baseline\": baseline_results,\n",
        "                                \"model_1\": results_1,\n",
        "                                \"model_2\": results_2,\n",
        "                                \"model_3\": results_3,\n",
        "                                \"model_4\": results_4,\n",
        "                                \"model_5\": results_5})\n",
        "all_model_results=all_model_results.transpose()"
      ]
    },
    {
      "cell_type": "markdown",
      "metadata": {
        "id": "w-kGRAjwxuvF"
      },
      "source": [
        "all_model_results"
      ]
    },
    {
      "cell_type": "code",
      "execution_count": null,
      "metadata": {
        "colab": {
          "base_uri": "https://localhost:8080/",
          "height": 238
        },
        "id": "wgBCPvvuCde-",
        "outputId": "3d825576-9589-47b1-e488-5099e2224d3e"
      },
      "outputs": [
        {
          "data": {
            "text/html": [
              "\n",
              "  <div id=\"df-d6f57b8f-d309-47d6-ade5-ead3ed9210c8\">\n",
              "    <div class=\"colab-df-container\">\n",
              "      <div>\n",
              "<style scoped>\n",
              "    .dataframe tbody tr th:only-of-type {\n",
              "        vertical-align: middle;\n",
              "    }\n",
              "\n",
              "    .dataframe tbody tr th {\n",
              "        vertical-align: top;\n",
              "    }\n",
              "\n",
              "    .dataframe thead th {\n",
              "        text-align: right;\n",
              "    }\n",
              "</style>\n",
              "<table border=\"1\" class=\"dataframe\">\n",
              "  <thead>\n",
              "    <tr style=\"text-align: right;\">\n",
              "      <th></th>\n",
              "      <th>accuracy</th>\n",
              "      <th>precision</th>\n",
              "      <th>recall</th>\n",
              "      <th>f1</th>\n",
              "    </tr>\n",
              "  </thead>\n",
              "  <tbody>\n",
              "    <tr>\n",
              "      <th>baseline</th>\n",
              "      <td>0.721832</td>\n",
              "      <td>0.718647</td>\n",
              "      <td>0.721832</td>\n",
              "      <td>0.698925</td>\n",
              "    </tr>\n",
              "    <tr>\n",
              "      <th>model_1</th>\n",
              "      <td>0.788164</td>\n",
              "      <td>0.785335</td>\n",
              "      <td>0.788164</td>\n",
              "      <td>0.785744</td>\n",
              "    </tr>\n",
              "    <tr>\n",
              "      <th>model_2</th>\n",
              "      <td>0.713955</td>\n",
              "      <td>0.713930</td>\n",
              "      <td>0.713955</td>\n",
              "      <td>0.711036</td>\n",
              "    </tr>\n",
              "    <tr>\n",
              "      <th>model_3</th>\n",
              "      <td>0.633060</td>\n",
              "      <td>0.656795</td>\n",
              "      <td>0.633060</td>\n",
              "      <td>0.619123</td>\n",
              "    </tr>\n",
              "    <tr>\n",
              "      <th>model_4</th>\n",
              "      <td>0.733086</td>\n",
              "      <td>0.733974</td>\n",
              "      <td>0.733086</td>\n",
              "      <td>0.730536</td>\n",
              "    </tr>\n",
              "    <tr>\n",
              "      <th>model_5</th>\n",
              "      <td>0.832782</td>\n",
              "      <td>0.831583</td>\n",
              "      <td>0.832782</td>\n",
              "      <td>0.831516</td>\n",
              "    </tr>\n",
              "  </tbody>\n",
              "</table>\n",
              "</div>\n",
              "      <button class=\"colab-df-convert\" onclick=\"convertToInteractive('df-d6f57b8f-d309-47d6-ade5-ead3ed9210c8')\"\n",
              "              title=\"Convert this dataframe to an interactive table.\"\n",
              "              style=\"display:none;\">\n",
              "        \n",
              "  <svg xmlns=\"http://www.w3.org/2000/svg\" height=\"24px\"viewBox=\"0 0 24 24\"\n",
              "       width=\"24px\">\n",
              "    <path d=\"M0 0h24v24H0V0z\" fill=\"none\"/>\n",
              "    <path d=\"M18.56 5.44l.94 2.06.94-2.06 2.06-.94-2.06-.94-.94-2.06-.94 2.06-2.06.94zm-11 1L8.5 8.5l.94-2.06 2.06-.94-2.06-.94L8.5 2.5l-.94 2.06-2.06.94zm10 10l.94 2.06.94-2.06 2.06-.94-2.06-.94-.94-2.06-.94 2.06-2.06.94z\"/><path d=\"M17.41 7.96l-1.37-1.37c-.4-.4-.92-.59-1.43-.59-.52 0-1.04.2-1.43.59L10.3 9.45l-7.72 7.72c-.78.78-.78 2.05 0 2.83L4 21.41c.39.39.9.59 1.41.59.51 0 1.02-.2 1.41-.59l7.78-7.78 2.81-2.81c.8-.78.8-2.07 0-2.86zM5.41 20L4 18.59l7.72-7.72 1.47 1.35L5.41 20z\"/>\n",
              "  </svg>\n",
              "      </button>\n",
              "      \n",
              "  <style>\n",
              "    .colab-df-container {\n",
              "      display:flex;\n",
              "      flex-wrap:wrap;\n",
              "      gap: 12px;\n",
              "    }\n",
              "\n",
              "    .colab-df-convert {\n",
              "      background-color: #E8F0FE;\n",
              "      border: none;\n",
              "      border-radius: 50%;\n",
              "      cursor: pointer;\n",
              "      display: none;\n",
              "      fill: #1967D2;\n",
              "      height: 32px;\n",
              "      padding: 0 0 0 0;\n",
              "      width: 32px;\n",
              "    }\n",
              "\n",
              "    .colab-df-convert:hover {\n",
              "      background-color: #E2EBFA;\n",
              "      box-shadow: 0px 1px 2px rgba(60, 64, 67, 0.3), 0px 1px 3px 1px rgba(60, 64, 67, 0.15);\n",
              "      fill: #174EA6;\n",
              "    }\n",
              "\n",
              "    [theme=dark] .colab-df-convert {\n",
              "      background-color: #3B4455;\n",
              "      fill: #D2E3FC;\n",
              "    }\n",
              "\n",
              "    [theme=dark] .colab-df-convert:hover {\n",
              "      background-color: #434B5C;\n",
              "      box-shadow: 0px 1px 3px 1px rgba(0, 0, 0, 0.15);\n",
              "      filter: drop-shadow(0px 1px 2px rgba(0, 0, 0, 0.3));\n",
              "      fill: #FFFFFF;\n",
              "    }\n",
              "  </style>\n",
              "\n",
              "      <script>\n",
              "        const buttonEl =\n",
              "          document.querySelector('#df-d6f57b8f-d309-47d6-ade5-ead3ed9210c8 button.colab-df-convert');\n",
              "        buttonEl.style.display =\n",
              "          google.colab.kernel.accessAllowed ? 'block' : 'none';\n",
              "\n",
              "        async function convertToInteractive(key) {\n",
              "          const element = document.querySelector('#df-d6f57b8f-d309-47d6-ade5-ead3ed9210c8');\n",
              "          const dataTable =\n",
              "            await google.colab.kernel.invokeFunction('convertToInteractive',\n",
              "                                                     [key], {});\n",
              "          if (!dataTable) return;\n",
              "\n",
              "          const docLinkHtml = 'Like what you see? Visit the ' +\n",
              "            '<a target=\"_blank\" href=https://colab.research.google.com/notebooks/data_table.ipynb>data table notebook</a>'\n",
              "            + ' to learn more about interactive tables.';\n",
              "          element.innerHTML = '';\n",
              "          dataTable['output_type'] = 'display_data';\n",
              "          await google.colab.output.renderOutput(dataTable, element);\n",
              "          const docLink = document.createElement('div');\n",
              "          docLink.innerHTML = docLinkHtml;\n",
              "          element.appendChild(docLink);\n",
              "        }\n",
              "      </script>\n",
              "    </div>\n",
              "  </div>\n",
              "  "
            ],
            "text/plain": [
              "          accuracy  precision    recall        f1\n",
              "baseline  0.721832   0.718647  0.721832  0.698925\n",
              "model_1   0.788164   0.785335  0.788164  0.785744\n",
              "model_2   0.713955   0.713930  0.713955  0.711036\n",
              "model_3   0.633060   0.656795  0.633060  0.619123\n",
              "model_4   0.733086   0.733974  0.733086  0.730536\n",
              "model_5   0.832782   0.831583  0.832782  0.831516"
            ]
          },
          "execution_count": 286,
          "metadata": {},
          "output_type": "execute_result"
        }
      ],
      "source": [
        "# Reduce the accuracy to the same scale as the other metrucs\n",
        "all_model_results[\"accuracy\"]=all_model_results[\"accuracy\"]/100\n",
        "all_model_results"
      ]
    },
    {
      "cell_type": "code",
      "execution_count": null,
      "metadata": {
        "colab": {
          "base_uri": "https://localhost:8080/",
          "height": 508
        },
        "id": "Ivey_ohkCd22",
        "outputId": "ffc0571e-9348-458a-ee9e-581b76a045c3"
      },
      "outputs": [
        {
          "data": {
            "text/plain": [
              "Text(0, 0.5, 'Score')"
            ]
          },
          "execution_count": 298,
          "metadata": {},
          "output_type": "execute_result"
        },
        {
          "data": {
            "image/png": "[encoded data removed]",
            "text/plain": [
              "<Figure size 720x504 with 1 Axes>"
            ]
          },
          "metadata": {},
          "output_type": "display_data"
        }
      ],
      "source": [
        "# Plot and compare all models results\n",
        "all_model_results.plot(kind=\"bar\", figsize=(10,7)).legend(bbox_to_anchor=(1.0,1.0))\n",
        "plt.title(\"Comparison of all models metrics\")\n",
        "plt.xlabel(\"Model\")\n",
        "plt.ylabel(\"Score\")"
      ]
    },
    {
      "cell_type": "code",
      "execution_count": null,
      "metadata": {
        "colab": {
          "base_uri": "https://localhost:8080/",
          "height": 478
        },
        "id": "1EJv2UxkCeKn",
        "outputId": "fe9c3c25-a071-4dfa-805d-0f71322e57fa"
      },
      "outputs": [
        {
          "data": {
            "text/plain": [
              "<matplotlib.axes._subplots.AxesSubplot at 0x7fefe15a3310>"
            ]
          },
          "execution_count": 301,
          "metadata": {},
          "output_type": "execute_result"
        },
        {
          "data": {
            "image/png": "[encoded data removed]",
            "text/plain": [
              "<Figure size 720x504 with 1 Axes>"
            ]
          },
          "metadata": {},
          "output_type": "display_data"
        }
      ],
      "source": [
        "# Sort models results by f1 score \n",
        "all_model_results.sort_values(\"f1\", ascending=False)[\"f1\"].plot(kind=\"bar\", figsize=(10,7))"
      ]
    },
    {
      "cell_type": "markdown",
      "metadata": {
        "id": "CQTYSqYXF8re"
      },
      "source": [
        "## Save and load a model"
      ]
    },
    {
      "cell_type": "markdown",
      "metadata": {
        "id": "sr3vBMumF9Ch"
      },
      "source": [
        "# Save a model\n",
        "model_5.save(\"skimlit_trybrid_model\")"
      ]
    },
    {
      "cell_type": "code",
      "execution_count": null,
      "metadata": {
        "id": "t54G4EV8MDRN"
      },
      "outputs": [],
      "source": [
        "# Save the model\n",
        "model_5.save(\"skimlit_trybrid_model\")"
      ]
    },
    {
      "cell_type": "code",
      "execution_count": null,
      "metadata": {
        "id": "K-MiFUL-Lofi"
      },
      "outputs": [],
      "source": [
        "# How to download file from google colab to local machine\n",
        "from google.colab import files\n",
        "files.download(\"/content/skimlit_trybrid_model\")"
      ]
    },
    {
      "cell_type": "code",
      "execution_count": null,
      "metadata": {
        "id": "lo0rG45jF9af"
      },
      "outputs": [],
      "source": [
        "# Load back the saved model\n",
        "loaded_model=tf.keras.models.load_model(\"/content/skimlit_trybrid_model\")"
      ]
    },
    {
      "cell_type": "code",
      "execution_count": null,
      "metadata": {
        "colab": {
          "base_uri": "https://localhost:8080/"
        },
        "id": "JXqvjncIF9k-",
        "outputId": "0cb9df1e-4168-4df1-96af-d559770d8992"
      },
      "outputs": [
        {
          "name": "stdout",
          "output_type": "stream",
          "text": [
            "945/945 [==============================] - 18s 18ms/step - loss: 0.9354 - accuracy: 0.8328\n",
            "[0.935370683670044, 0.8327816724777222]\n",
            "{'accuracy': 83.27816761551702, 'precision': 0.831583483747044, 'recall': 0.8327816761551702, 'f1': 0.8315163413063412}\n"
          ]
        }
      ],
      "source": [
        "# Make sure it is the same model by make predictions and compare them to the previous results\n",
        "loaded_results=compare_results(loaded_model, val_char_token_pos_dataset, val_labels_encoded)"
      ]
    },
    {
      "cell_type": "code",
      "execution_count": null,
      "metadata": {
        "colab": {
          "base_uri": "https://localhost:8080/"
        },
        "id": "d9giwJE6F9xH",
        "outputId": "99181c42-c79c-450f-8f5d-c723e6c96d5e"
      },
      "outputs": [
        {
          "data": {
            "text/plain": [
              "{'accuracy': 83.27816761551702,\n",
              " 'f1': 0.8315163413063412,\n",
              " 'precision': 0.831583483747044,\n",
              " 'recall': 0.8327816761551702}"
            ]
          },
          "execution_count": 314,
          "metadata": {},
          "output_type": "execute_result"
        }
      ],
      "source": [
        "results_5"
      ]
    },
    {
      "cell_type": "markdown",
      "metadata": {
        "id": "790uIGlEUK3t"
      },
      "source": [
        "# Download and load a pretrainde model ftom google storage \n",
        "To strat the challenges you can strat run the notebook from here."
      ]
    },
    {
      "cell_type": "code",
      "execution_count": null,
      "metadata": {
        "id": "jKpeLs_PUWFP"
      },
      "outputs": [],
      "source": [
        "import tensorflow as tf\n",
        "import tensorflow_hub as hub\n",
        "from tensorflow.keras.layers.experimental.preprocessing import TextVectorization\n"
      ]
    },
    {
      "cell_type": "code",
      "execution_count": null,
      "metadata": {
        "colab": {
          "background_save": true,
          "base_uri": "https://localhost:8080/"
        },
        "id": "n3ailNCqUWPY",
        "outputId": "bb1fe4af-4a1a-49e8-ea7c-e63341f4bb64"
      },
      "outputs": [
        {
          "name": "stdout",
          "output_type": "stream",
          "text": [
            "--2022-03-24 14:33:15--  https://storage.googleapis.com/ztm_tf_course/skimlit/skimlit_tribrid_model.zip\n",
            "Resolving storage.googleapis.com (storage.googleapis.com)... 173.194.202.128, 74.125.195.128, 2607:f8b0:400e:c05::80, ...\n",
            "Connecting to storage.googleapis.com (storage.googleapis.com)|173.194.202.128|:443... connected.\n",
            "HTTP request sent, awaiting response... 200 OK\n",
            "Length: 962561955 (918M) [application/zip]\n",
            "Saving to: ‘skimlit_tribrid_model.zip.2’\n",
            "\n",
            "skimlit_tribrid_mod 100%[===================>] 917.97M  95.0MB/s    in 6.3s    \n",
            "\n",
            "2022-03-24 14:33:22 (146 MB/s) - ‘skimlit_tribrid_model.zip.2’ saved [962561955/962561955]\n",
            "\n",
            "mkdir: cannot create directory ‘skimlit_gs_model’: File exists\n",
            "Archive:  skimlit_tribrid_model.zip\n",
            "   creating: skimlit_gs_model/skimlit_tribrid_model/\n",
            "   creating: skimlit_gs_model/skimlit_tribrid_model/variables/\n",
            "  inflating: skimlit_gs_model/skimlit_tribrid_model/variables/variables.index  \n",
            "  inflating: skimlit_gs_model/skimlit_tribrid_model/variables/variables.data-00000-of-00001  \n",
            "  inflating: skimlit_gs_model/skimlit_tribrid_model/keras_metadata.pb  \n",
            "  inflating: skimlit_gs_model/skimlit_tribrid_model/saved_model.pb  \n",
            "   creating: skimlit_gs_model/skimlit_tribrid_model/assets/\n"
          ]
        }
      ],
      "source": [
        "!wget https://storage.googleapis.com/ztm_tf_course/skimlit/skimlit_tribrid_model.zip\n",
        "\n",
        "!mkdir skimlit_gs_model\n",
        "!unzip skimlit_tribrid_model.zip -d skimlit_gs_model"
      ]
    },
    {
      "cell_type": "markdown",
      "metadata": {
        "id": "vIUxvIECUT0O"
      },
      "source": [
        "# Challenges"
      ]
    },
    {
      "cell_type": "markdown",
      "metadata": {
        "id": "dksI3J6sFb1X"
      },
      "source": [
        "## Challenge: merge the line numbers and total line to one positional featureMM"
      ]
    },
    {
      "cell_type": "markdown",
      "metadata": {
        "id": "5Df-ind9Ag94"
      },
      "source": [
        "## Challenge: Model 6- combine the custom token embedding from model 1 with the trybrid model 5:\n",
        "\n",
        "replace the pretrained token embedding layer in model 5 with the custom token embedding layer from model 1"
      ]
    },
    {
      "cell_type": "markdown",
      "metadata": {
        "id": "ZBFWBXU3AhHd"
      },
      "source": [
        "## Challenge Model 7: Combine custom embedding from model 1 with positional embedding"
      ]
    },
    {
      "cell_type": "code",
      "execution_count": null,
      "metadata": {
        "id": "WqpMV2ayAhRN"
      },
      "outputs": [],
      "source": [
        ""
      ]
    },
    {
      "cell_type": "code",
      "execution_count": null,
      "metadata": {
        "id": "0Mir9TshAhad"
      },
      "outputs": [],
      "source": [
        ""
      ]
    },
    {
      "cell_type": "code",
      "execution_count": null,
      "metadata": {
        "id": "FMkTyjgOAhjS"
      },
      "outputs": [],
      "source": [
        ""
      ]
    }
  ],
  "metadata": {
    "accelerator": "GPU",
    "colab": {
      "collapsed_sections": [],
      "name": "09_SkimLit_nlp_milestome_project_2.ipynb",
      "toc_visible": true,
      "provenance": [],
      "authorship_tag": "ABX9TyPsWizUhUV7x4hntHkgBdUv",
      "include_colab_link": true
    },
    "kernelspec": {
      "display_name": "Python 3",
      "name": "python3"
    },
    "language_info": {
      "name": "python"
    }
  },
  "nbformat": 4,
  "nbformat_minor": 0
}